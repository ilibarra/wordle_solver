{
 "cells": [
  {
   "cell_type": "markdown",
   "metadata": {},
   "source": [
    "Use as ref all words from the Linux American dictionary with 5 words (uppercase)"
   ]
  },
  {
   "cell_type": "code",
   "execution_count": null,
   "metadata": {},
   "outputs": [],
   "source": []
  },
  {
   "cell_type": "code",
   "execution_count": 2586,
   "metadata": {},
   "outputs": [],
   "source": [
    "# we need unidecode to fix accents in certain words\n",
    "# !pip install unidecode\n",
    "import unidecode\n",
    "\n",
    "import pandas as pd\n",
    "pd.set_option('display.max_rows', 500)\n",
    "pd.set_option('display.max_columns', 500)\n",
    "pd.set_option('display.width', 1000)\n",
    "\n",
    "import seaborn\n",
    "import scipy\n",
    "import numpy as np\n",
    "import matplotlib.pyplot as plt\n",
    "from matplotlib.pyplot import rcParams\n",
    "rcParams['figure.figsize'] = 7, 6\n",
    "rcParams['figure.dpi'] = 60\n",
    "\n",
    "import warnings\n",
    "warnings.filterwarnings(\"ignore\")\n"
   ]
  },
  {
   "cell_type": "markdown",
   "metadata": {},
   "source": [
    "### Load words from dictionaries to be tested"
   ]
  },
  {
   "cell_type": "code",
   "execution_count": 2587,
   "metadata": {},
   "outputs": [
    {
     "ename": "SyntaxError",
     "evalue": "invalid syntax (<ipython-input-2587-4664b6a3d8f7>, line 6)",
     "output_type": "error",
     "traceback": [
      "\u001b[0;36m  File \u001b[0;32m\"<ipython-input-2587-4664b6a3d8f7>\"\u001b[0;36m, line \u001b[0;32m6\u001b[0m\n\u001b[0;31m    for n_letters = range(3, 5):\u001b[0m\n\u001b[0m                  ^\u001b[0m\n\u001b[0;31mSyntaxError\u001b[0m\u001b[0;31m:\u001b[0m invalid syntax\n"
     ]
    }
   ],
   "source": [
    "# source\n",
    "# 'https://github.com/hannahcode/wordle/blob/main/src/constants/wordlist.ts'\n",
    "\n",
    "words_by_dictionary = {}\n",
    "\n",
    "for n_letters = range(3, 5):\n",
    "for name, path in zip(['wordle', 'american'], ['data/wordle_list.txt', 'data/american-english']):\n",
    "    words = [r.strip() for r in open('data/wordle_list.txt')]\n",
    "    words = [r.upper() for r in words if len(r) == 5 and not '\\'' in r]\n",
    "    words = [unidecode.unidecode(w) for w in words]\n",
    "\n",
    "    n_letters = 5 # reduce to 4 or 3 to debug smaller runs\n",
    "\n",
    "    if n_letters < 5:\n",
    "        shorter_words = []\n",
    "        for w in words:\n",
    "            for i in range(5 - n_letters + 1):\n",
    "                wi = w[i: i + n_letters]\n",
    "                shorter_words.append(wi)\n",
    "        words = shorter_words\n",
    "\n",
    "    words = list(set([w[:n_letters] for w in words])) # removing duplicates # in case reducing the dictionary complexity\n",
    "\n",
    "\n",
    "    n_sample = None # 1000 # None # 1000 # None\n",
    "    # random.seed()\n",
    "\n",
    "\n",
    "    print('# total words', len(words))\n",
    "    if n_sample is not None:\n",
    "        words = random.sample(words, n_sample)\n",
    "\n",
    "\n",
    "    print('# words in sample', len(words))\n",
    "    \n",
    "    words_by_dictionary[name + '_' + str(n_letters)] = words\n",
    "    # words = words[:n_sample]"
   ]
  },
  {
   "cell_type": "markdown",
   "metadata": {},
   "source": [
    "#### Main util functions (rules, selection and scoring)"
   ]
  },
  {
   "cell_type": "code",
   "execution_count": null,
   "metadata": {},
   "outputs": [],
   "source": [
    "def get_rules(query_word, target_word):\n",
    "    i = 0\n",
    "    rules = []\n",
    "    for qi, ti in zip(query_word, target_word):\n",
    "        if qi == ti:\n",
    "            rules.append([qi, i, True])\n",
    "        else:\n",
    "            if qi in target_word:\n",
    "                rules.append([qi, -1, True])\n",
    "                rules.append([qi, i, False])\n",
    "            else:\n",
    "                rules.append([qi, -1, False])            \n",
    "        i += 1\n",
    "    return rules\n",
    "\n",
    "def select_one_rule(words, rule):\n",
    "    letter, position, mask = rule\n",
    "    if mask:\n",
    "        return [w for w in words if ((w[position] == letter) if position != -1 else letter in w)]\n",
    "    return [w for w in words if ((w[position] != letter) if position != -1 else letter not in w)]\n",
    "\n",
    "def select_multiple_rules(words, rules, log=False):\n",
    "    if log:\n",
    "        print('# query words', len(words))\n",
    "    remaining_words = [w for w in words]\n",
    "    for ri, r in enumerate(rules):\n",
    "        remaining_words = select_one_rule(remaining_words, r)\n",
    "    if log:\n",
    "        print('after rule %s: %i words' % (r, len(remaining_words)))\n",
    "    return remaining_words\n",
    "\n",
    "def get_guesses(words, challenge_word, queries):\n",
    "    words_by_guess = {}\n",
    "    for wi, guess in enumerate(queries):\n",
    "        # if wi % 100 == 0:\n",
    "        #     print(wi)\n",
    "        words_by_guess[guess] = select_multiple_rules(words, get_rules(guess, challenge_word))\n",
    "    return words_by_guess\n",
    "\n",
    "def score_guesses(words_by_guess):\n",
    "    res  = []\n",
    "    for gi, guess in enumerate(words_by_guess):\n",
    "        #         if gi % 10 == 0:\n",
    "        #             print(gi)\n",
    "        remaining_words = words_by_guess[guess]\n",
    "        # print(guess, len(remaining_words))\n",
    "        \n",
    "        med = np.nan\n",
    "        if len(remaining_words) > 1:\n",
    "            med = get_med_cluster_size(remaining_words)\n",
    "        res.append([guess, len(remaining_words), med])\n",
    "    # print('med', med)\n",
    "    res = pd.DataFrame(res, columns=['guess', 'words.left', 'median.size'])\n",
    "    res = res.sort_values('words.left')\n",
    "    return res\n"
   ]
  },
  {
   "cell_type": "markdown",
   "metadata": {},
   "source": [
    "#### Clustering util functions (distance, mutual information, clustering)"
   ]
  },
  {
   "cell_type": "code",
   "execution_count": null,
   "metadata": {},
   "outputs": [],
   "source": [
    "from sklearn.metrics import mutual_info_score\n",
    "\n",
    "def dist(a, b):\n",
    "    assert len(a) == len(b)\n",
    "    return len(a) - sum(ai == bi for ai, bi in zip(a, b))\n",
    "\n",
    "def get_dism(words):\n",
    "    entries = []\n",
    "    for i, a in enumerate(words):\n",
    "        for j, b in enumerate(words):\n",
    "            if j < i:\n",
    "                continue\n",
    "            d = dist(a, b)\n",
    "            entries.append([i, j, d])\n",
    "            if i != j:\n",
    "                entries.append([j, i, d])\n",
    "\n",
    "    df_dism = pd.DataFrame(entries, columns=['i', 'j', 'd'])\n",
    "    df_dism = df_dism.pivot('i', 'j', 'd')\n",
    "    return df_dism\n",
    "\n",
    "def get_mut_info(words):\n",
    "    n_letters = len(words[0])\n",
    "    df = pd.DataFrame([[letter for letter in w] for w in words])\n",
    "    freq = pd.Series(df.values.flatten()).value_counts().sort_values()\n",
    "    df['score'] = [sum([freq[c] for c in set(w)]) for w in words]\n",
    "    df['word'] = words\n",
    "    \n",
    "    # calculate mutual information between words, iteratively\n",
    "    letter_m = []\n",
    "    for pi in range(n_letters):\n",
    "        for pj in range(n_letters):\n",
    "            if pj > pi:\n",
    "                continue\n",
    "            for a in freq.index:\n",
    "                for b in freq.index:\n",
    "                    v1, v2 = df['word'].str[pi].str.contains(a), df['word'].str[pj].str.contains(b)\n",
    "                    mut_info = np.log10(mutual_info_score(v1, v2) + 1e-10)\n",
    "                    # mut_info = mutual_info_score(v1, v2)\n",
    "                    letter_m.append([a + str(pi), b + str(pj), mut_info])\n",
    "                    letter_m.append([b + str(pj), a + str(pi), mut_info])\n",
    "\n",
    "                    \n",
    "    dism = pd.DataFrame(letter_m, columns=['a', 'b', 'mut.info'])\n",
    "    dism['k'] = dism['a'] + dism['b']\n",
    "    dism = dism.drop_duplicates('k')\n",
    "    del dism['k']\n",
    "    dism = dism.pivot('a', 'b', 'mut.info')\n",
    "    return dism\n",
    "\n",
    "# return the higher size of groups upon clustering and assessment at different thresholds\n",
    "def get_scores(cg, df, min_thr=0, max_thr=200, step=10):\n",
    "    res = []\n",
    "    for thr in range(0, 200, 10):\n",
    "        # print(thr)\n",
    "        try:\n",
    "            plt.close()\n",
    "            den = scipy.cluster.hierarchy.dendrogram(cg.dendrogram_row.linkage,\n",
    "                                                     labels = df.index,\n",
    "                                                     color_threshold=thr / 100)\n",
    "            plt.close()\n",
    "            from collections import defaultdict\n",
    "\n",
    "\n",
    "            def get_cluster_classes(den, label='ivl'):\n",
    "                cluster_idxs = defaultdict(list)\n",
    "                for c, pi in zip(den['color_list'], den['icoord']):\n",
    "                    for leg in pi[1:3]:\n",
    "                        i = (leg - 5.0) / 10.0\n",
    "                        if abs(i - int(i)) < 1e-5:\n",
    "                            cluster_idxs[c].append(int(i))\n",
    "\n",
    "                cluster_classes = {}\n",
    "                for c, l in cluster_idxs.items():\n",
    "                    i_l = [den[label][i] for i in l]\n",
    "                    cluster_classes[c] = i_l\n",
    "\n",
    "                return cluster_classes\n",
    "\n",
    "            clusters = get_cluster_classes(den);\n",
    "            cluster = []\n",
    "            for i in df.index:\n",
    "                included=False\n",
    "                for j in clusters.keys():\n",
    "                    if i in clusters[j]:\n",
    "                        cluster.append(j)\n",
    "                        included=True\n",
    "                if not included:\n",
    "                    cluster.append(None)\n",
    "\n",
    "            df[\"cluster\"] = cluster\n",
    "\n",
    "            med = pd.Series(cluster).value_counts().median()\n",
    "            res.append([thr, med])\n",
    "        except Exception:\n",
    "            res.append([thr, np.nan])\n",
    "            \n",
    "    res = pd.DataFrame(res, columns=['thr', 'median'])\n",
    "    return res.sort_values('median', ascending=True)\n",
    "\n",
    "\n",
    "def get_med_cluster_size(words):\n",
    "    df = pd.DataFrame([[letter for letter in w] for w in words])\n",
    "    dism = get_dism(words)\n",
    "    linkage = hc.linkage(sp.distance.squareform(dism), method='average')\n",
    "    cg = sns.clustermap(dism, row_linkage=linkage, col_linkage=linkage)\n",
    "    med = get_scores(cg, df)['median'].values[0]\n",
    "    return med"
   ]
  },
  {
   "cell_type": "markdown",
   "metadata": {},
   "source": [
    "### If having multiple cores, this function is used to parallelize calculations"
   ]
  },
  {
   "cell_type": "code",
   "execution_count": null,
   "metadata": {},
   "outputs": [],
   "source": [
    "import multiprocessing\n",
    "from multiprocessing import Process\n",
    "from multiprocessing import Manager\n",
    "import threading\n",
    "from threading import Thread\n",
    "import pandas as pd\n",
    "import numpy as np\n",
    "import os\n",
    "import random\n",
    "import tempfile\n",
    "from os.path import join\n",
    "import screg as scr\n",
    "\n",
    "class ThreadingUtils:\n",
    "    @staticmethod\n",
    "    def chunks(l, n):\n",
    "        \"\"\"Yield successive n-sized chunks from l.\"\"\"\n",
    "        for i in range(0, len(l), n):\n",
    "            yield l[i:i + n]\n",
    "\n",
    "    @staticmethod\n",
    "    def run(function, input_list, n_cores, log_each=None, log=False,\n",
    "            input_list_kwargs=None):\n",
    "        print(('run function %s with n_cores = %i' % (function, n_cores)))\n",
    "        print(function)\n",
    "        # print 'with input list of len'\n",
    "        # print len(input_list)\n",
    "        # print 'in groups of %d threads' % n_threads\n",
    "\n",
    "        assert n_cores <= 20\n",
    "\n",
    "        # the type of input_list has to be a list. If not\n",
    "        # then it can a single element list and we cast it to list.\n",
    "        if not isinstance(type(input_list[0]), type(list)):\n",
    "            input_list = [[i] for i in input_list]\n",
    "\n",
    "        n_groups = int(len(input_list) / n_cores + 1)\n",
    "        # print 'n groups', n_groups\n",
    "\n",
    "        n_done = 0\n",
    "        \n",
    "        print('# Total groups', n_groups)\n",
    "        for group_i in range(n_groups):\n",
    "            start, end = group_i * n_cores, (group_i + 1) * n_cores\n",
    "            \n",
    "            if group_i % 10 == 0:\n",
    "                print('Current group %i (start/end)' % group_i, start, end)\n",
    "            # print 'start', start, 'end', end\n",
    "\n",
    "            threads = [None] * (end - start)\n",
    "            for i, pi in enumerate(range(start, min(end, len(input_list)))):\n",
    "                next_args = input_list[pi]\n",
    "                next_kwargs = None if input_list_kwargs is None else input_list_kwargs[pi]\n",
    "                if log:\n",
    "                    print(next_args)\n",
    "                # print next_kmer\n",
    "                threads[i] = Process(target=function, args=next_args, kwargs=next_kwargs)\n",
    "                # print 'starting process #', i\n",
    "                threads[i].start()\n",
    "\n",
    "            # print  threads\n",
    "            # print 'joining threads...'\n",
    "            # do some other stuff\n",
    "            for i in range(len(threads)):\n",
    "                if threads[i] is None:\n",
    "                    continue\n",
    "                threads[i].join()\n",
    "\n",
    "                n_done += 1\n",
    "                if log_each is not None and log_each % n_done == 0:\n",
    "                    print('Done %i so far' % n_done)\n",
    "        print('done...')"
   ]
  },
  {
   "cell_type": "markdown",
   "metadata": {},
   "source": [
    "### Ideal words are the ones where the mutual information is minimized"
   ]
  },
  {
   "cell_type": "markdown",
   "metadata": {},
   "source": [
    "Best words should be the ones that contain close to half frequency among all words, and low internal correlation among those. That means."
   ]
  },
  {
   "cell_type": "markdown",
   "metadata": {},
   "source": [
    "### Prepare the dictionary containing the frequencies per position and mutual information of main dictionary"
   ]
  },
  {
   "cell_type": "code",
   "execution_count": null,
   "metadata": {},
   "outputs": [],
   "source": [
    "df_bkp = None\n",
    "\n",
    "if df_bkp is None:\n",
    "    print('preparing mutual information scores for smallest words...')\n",
    "    ## step 1: prepare a mutual information table for our initial set of words\n",
    "    df = pd.DataFrame([[letter for letter in w] for w in words])\n",
    "    pd.Series(df.values.flatten()).value_counts().sort_values().plot(kind = 'barh')\n",
    "    freq = pd.Series(df.values.flatten()).value_counts().sort_values()\n",
    "    df['score'] = [sum([freq[c] for c in set(w)]) for w in words]\n",
    "    df['word'] = words\n",
    "    df.sort_values('score', ascending=False)\n",
    "    mut_info = get_mut_info(words)\n",
    "    sns.clustermap(mut_info)\n",
    "    mut_info\n",
    "    df['mut.info.sum'] = [sum([mut_info.loc[a + str(i), b + str(j)] for i, a in enumerate(w) for j, b in enumerate(w)]) for w in df['word']]\n",
    "    # plt.scatter(df['score'], df['mut.info.sum'])\n",
    "    df.sort_values(['mut.info.sum', 'score'], ascending=[False, True]).head(10)\n",
    "    df_bkp = df.copy()"
   ]
  },
  {
   "cell_type": "markdown",
   "metadata": {},
   "source": [
    "### This function calculates the frequencies and mutual overlaps per position (i.e. letter co-variation)"
   ]
  },
  {
   "cell_type": "code",
   "execution_count": 2620,
   "metadata": {},
   "outputs": [],
   "source": [
    "import itertools\n",
    "def get_highest_freq_word(df, n_letters=4, use_covariation=True):\n",
    "    freq = []\n",
    "    \n",
    "    # select the top 5 most frequent words, per position\n",
    "    for position in range(n_letters):\n",
    "        next_freq = pd.Series(df[position].values.flatten()).value_counts().sort_values()\n",
    "        freq.append(next_freq.sort_values(ascending=False).head(4).index)\n",
    "\n",
    "    # select three letters among the top 5 in each, with highest frequency and lowest overlap\n",
    "    words = set(df['word'])\n",
    "    \n",
    "    total = []\n",
    "    for next_comb in list(itertools.product(*freq)):    \n",
    "        # print(c)\n",
    "        \n",
    "        # single column frequencies\n",
    "        singles = []\n",
    "        for i in range(n_letters):\n",
    "            singles.append(df[i] == next_comb[i])\n",
    "        scores_single = 0\n",
    "        for s in singles:\n",
    "            scores_single += np.sum(s)            \n",
    "        \n",
    "        # double column frequencies\n",
    "        doubles = []\n",
    "        for i, j in itertools.combinations(range(n_letters), r=2):\n",
    "            # print(i, j)\n",
    "            doubles.append(df[i] == next_comb[j])                    \n",
    "        # filter words with double letter occurrences.\n",
    "        # Single statement is to assures that each double count is counted only once. \n",
    "        overlap_doubles = doubles[0]\n",
    "        for d in doubles:\n",
    "            overlap_doubles = overlap_doubles | d\n",
    "        scores_double = np.sum(overlap_doubles)\n",
    "        \n",
    "        \n",
    "        scores_tuple = [scores_single, scores_double]\n",
    "\n",
    "        # final score\n",
    "        score = np.sum(scores_single)\n",
    "        if use_covariation:\n",
    "            score -= scores_double\n",
    "    \n",
    "    \n",
    "        guess = \"\".join(next_comb)\n",
    "        total.append([next_comb, score, guess, len(set(next_comb)), guess in words, [scores_tuple, [scores_single, scores_double]]])\n",
    "\n",
    "    scores = pd.DataFrame(total, columns=['combination', 'score', 'guess', 'n.uniq', 'exists', 'score.tuple'])    \n",
    "    scores = scores[scores['exists']]\n",
    "\n",
    "    scores = scores.sort_values(['n.uniq', 'score'], ascending=[False, False])\n",
    "    return scores\n",
    "# get_highest_freq_word(df, 4)"
   ]
  },
  {
   "cell_type": "markdown",
   "metadata": {},
   "source": [
    "### Main simulation function that gets parallelized"
   ]
  },
  {
   "cell_type": "code",
   "execution_count": 2621,
   "metadata": {},
   "outputs": [],
   "source": [
    "\n",
    "def run_query(qi, query, df_bkp, plot=False, log=False):\n",
    "    # avoid printing warnings during parallel running\n",
    "    import warnings; warnings.filterwarnings(\"ignore\")\n",
    "    \n",
    "    day_i, challenge_word, strategy = query\n",
    "    \n",
    "    if log:\n",
    "        print(day_i, challenge_word, strategy)\n",
    "    select_by, sort_ascending = strategy\n",
    "    df = df_bkp.copy()\n",
    "\n",
    "    guess_i = 0\n",
    "    remaining_words = words\n",
    "    n_letters = len(words[0])\n",
    "    \n",
    "    last_guesses = set()\n",
    "    while guess_i < 5:\n",
    "        guess_i += 1    \n",
    "\n",
    "        best_guess = None\n",
    "        queries = None\n",
    "\n",
    "        df = pd.DataFrame([[letter for letter in w] for w in remaining_words])\n",
    "        freq = pd.Series(df.values.flatten()).value_counts().sort_values()\n",
    "        df['letter.frequency.word'] = [sum([freq[c] for c in set(w)]) for w in remaining_words]\n",
    "        df['word'] = remaining_words\n",
    "\n",
    "        if 'letter.frequency.position' in select_by:\n",
    "            res = get_highest_freq_word(df, n_letters, use_covariation='covariation' in select_by)            \n",
    "            res = res[~res['guess'].isin(last_guesses)]\n",
    "            if log:\n",
    "                print(res.head(10))\n",
    "            best_guess = res['guess'].values[0]\n",
    "            queries = [best_guess]\n",
    "        elif select_by == 'letter.frequency.word':\n",
    "            words_options = df.sort_values(select_by, ascending=sort_ascending)['word'][:1]\n",
    "            queries = list(words_options) # + list(words_score)\n",
    "            best_guess = queries[0]            \n",
    "\n",
    "        last_guesses.add(best_guess)\n",
    "        remaining_words_by_guess = get_guesses(remaining_words, challenge_word, queries)\n",
    "\n",
    "        if log:\n",
    "            print('\\n\\nGUESS # %i' % guess_i, best_guess, end=' ')\n",
    "        \n",
    "        remaining_words = remaining_words_by_guess[best_guess]\n",
    "\n",
    "        ## the word has been guessed. Stop.\n",
    "        if len(remaining_words) == 1:\n",
    "            break\n",
    "        if log:\n",
    "            print('left', len(remaining_words))\n",
    "                \n",
    "        linkage = None\n",
    "        if plot:\n",
    "            dism = get_dism(remaining_words)\n",
    "            linkage = hc.linkage(sp.distance.squareform(dism), method='average')\n",
    "            sns.clustermap(dism, row_linkage=linkage, col_linkage=linkage, figsize=[5, 5])\n",
    "                           # xticklabels=None, yticklabels=None)\n",
    "        \n",
    "        df_remaining = pd.DataFrame([[letter for letter in w] for w in remaining_words])\n",
    "        df_remaining.index = ['w.%i' % i for i in range(df_remaining.shape[0])]\n",
    "        df_remaining.columns = ['c.%i' % i for i in range(df_remaining.shape[1])]\n",
    "        import numpy as np\n",
    "        df_mask = pd.DataFrame(index=df_remaining.index)\n",
    "        df_mask['challenge'] = np.where(pd.Series(remaining_words) == challenge_word, 'black', 'white')\n",
    "        df_colors = df_remaining.copy()\n",
    "        letters = pd.Series(df_remaining.values.flatten()).value_counts().sort_values()\n",
    "        cmap = {k: idx for idx, k in enumerate(letters.sample(letters.shape[0], random_state=500).index)}\n",
    "        for c in df_colors:\n",
    "            df_colors[c] = df_remaining[c].map(cmap).astype(int)\n",
    "        \n",
    "        if plot:\n",
    "            df_dism = pd.DataFrame([[i, j, dist(a, b)] for i, a in enumerate(remaining_words) for j, b in enumerate(remaining_words)], columns=['i', 'j', 'd'])\n",
    "            df_dism = df_dism.pivot('i', 'j', 'd')\n",
    "            linkage = hc.linkage(sp.distance.squareform(df_dism), method='average')\n",
    "            g = sns.clustermap(df_colors, row_linkage=linkage, col_cluster=False, annot=df_remaining if df_remaining.shape[0] < 50 else None,\n",
    "                           fmt='', cmap=sns.color_palette(\"Paired\"), figsize=[4, 6], row_colors=df_mask)\n",
    "            g.ax_heatmap.tick_params(left=False, bottom=False)\n",
    "\n",
    "        \n",
    "        if not plot:\n",
    "            plt.close()\n",
    "        else:\n",
    "            plt.show()\n",
    "\n",
    "    final_scores = [day_i, select_by, sort_ascending, challenge_word, guess_i]\n",
    "    # print(final_scores)\n",
    "    \n",
    "    return_dict[qi] = final_scores\n",
    "    \n",
    "    if log:\n",
    "        print('day %i done...\\n\\n' % day_i)\n",
    "        print('total guesses', guess_i)"
   ]
  },
  {
   "cell_type": "markdown",
   "metadata": {},
   "source": [
    "### Simulate a challenge\n",
    "#### Prepare queries for main function"
   ]
  },
  {
   "cell_type": "code",
   "execution_count": 2633,
   "metadata": {},
   "outputs": [
    {
     "name": "stdout",
     "output_type": "stream",
     "text": [
      "200 2315 600\n"
     ]
    },
    {
     "data": {
      "text/plain": [
       "600"
      ]
     },
     "execution_count": 2633,
     "metadata": {},
     "output_type": "execute_result"
    }
   ],
   "source": [
    "import random\n",
    "\n",
    "import random\n",
    "\n",
    "# strategy name, sorting type\n",
    "strategies = [['letter.frequency.word', False],\n",
    "              ['letter.frequency.position', False],\n",
    "              ['letter.frequency.position.with.covariation', False]]\n",
    "\n",
    "n_days = 200\n",
    "\n",
    "challenge_words\n",
    "if n_days > len(words):\n",
    "    challenge_words = words\n",
    "    n_days = len(words)\n",
    "else:\n",
    "    challenge_words = random.sample(words, n_days)\n",
    "\n",
    "queries = [[day_i, w, st] for day_i, w in enumerate(challenge_words) for st in strategies]\n",
    "print(n_days, len(words), len(queries))\n",
    "\n",
    "next_args = [[qi, q, df_bkp] for qi, q in enumerate(queries)]\n",
    "len(next_args)\n",
    "# next_args[10][:2]"
   ]
  },
  {
   "cell_type": "markdown",
   "metadata": {},
   "source": [
    "#### During multiprocess, store output here"
   ]
  },
  {
   "cell_type": "code",
   "execution_count": 2634,
   "metadata": {},
   "outputs": [],
   "source": [
    "manager = multiprocessing.Manager()\n",
    "return_dict = manager.dict()"
   ]
  },
  {
   "cell_type": "markdown",
   "metadata": {},
   "source": [
    "### Debug one case, to examine intermediat viz"
   ]
  },
  {
   "cell_type": "code",
   "execution_count": 2635,
   "metadata": {},
   "outputs": [],
   "source": [
    "for q in next_args:\n",
    "    if q[1][1] == 'RAZOR':\n",
    "        print(q)\n",
    "        break"
   ]
  },
  {
   "cell_type": "code",
   "execution_count": 2636,
   "metadata": {},
   "outputs": [
    {
     "name": "stdout",
     "output_type": "stream",
     "text": [
      "\n",
      "\n",
      "7 DAUNT ['letter.frequency.position', False]\n",
      "         combination  score  guess  n.uniq  exists                   score.tuple\n",
      "388  (C, R, A, N, E)   1378  CRANE       5    True  [[1378, 1229], [1378, 1229]]\n",
      "22   (S, A, I, N, T)   1371  SAINT       5    True    [[1371, 915], [1371, 915]]\n",
      "420  (C, R, O, N, E)   1315  CRONE       5    True  [[1315, 1133], [1315, 1133]]\n",
      "660  (B, R, I, N, E)   1312  BRINE       5    True  [[1312, 1055], [1312, 1055]]\n",
      "421  (C, R, O, N, Y)   1255  CRONY       5    True    [[1255, 664], [1255, 664]]\n",
      "661  (B, R, I, N, Y)   1252  BRINY       5    True    [[1252, 571], [1252, 571]]\n",
      "330  (C, O, A, S, T)   1208  COAST       5    True  [[1208, 1134], [1208, 1134]]\n",
      "586  (B, O, A, S, T)   1183  BOAST       5    True  [[1183, 1134], [1183, 1134]]\n",
      "714  (B, E, A, S, T)   1146  BEAST       5    True  [[1146, 1156], [1146, 1156]]\n",
      "442  (C, R, E, S, T)   1066  CREST       5    True  [[1066, 1082], [1066, 1082]]\n",
      "\n",
      "\n",
      "GUESS # 1 CRANE left 20\n"
     ]
    },
    {
     "data": {
      "image/png": "[encoded data removed]",
      "text/plain": [
       "<Figure size 300x300 with 4 Axes>"
      ]
     },
     "metadata": {},
     "output_type": "display_data"
    },
    {
     "data": {
      "image/png": "[encoded data removed]",
      "text/plain": [
       "<Figure size 240x360 with 5 Axes>"
      ]
     },
     "metadata": {},
     "output_type": "display_data"
    },
    {
     "name": "stdout",
     "output_type": "stream",
     "text": [
      "         combination  score  guess  n.uniq  exists           score.tuple\n",
      "68   (F, A, I, N, T)     54  FAINT       5    True  [[54, 10], [54, 10]]\n",
      "196  (S, A, I, N, T)     53  SAINT       5    True  [[53, 10], [53, 10]]\n",
      "37   (A, P, I, N, G)     36  APING       5    True    [[36, 6], [36, 6]]\n",
      "26   (A, G, O, N, Y)     34  AGONY       5    True    [[34, 3], [34, 3]]\n",
      "57   (A, M, O, N, G)     33  AMONG       5    True    [[33, 5], [33, 5]]\n",
      "128  (T, A, U, N, T)     56  TAUNT       4    True  [[56, 10], [56, 10]]\n",
      "132  (T, A, I, N, T)     54  TAINT       4    True  [[54, 10], [54, 10]]\n",
      "67   (F, A, U, N, A)     48  FAUNA       4    True  [[48, 20], [48, 20]]\n",
      "195  (S, A, U, N, A)     47  SAUNA       4    True  [[47, 20], [47, 20]]\n",
      "78   (F, A, N, N, Y)     44  FANNY       4    True    [[44, 7], [44, 7]]\n",
      "\n",
      "\n",
      "GUESS # 2 FAINT left 6\n"
     ]
    },
    {
     "data": {
      "image/png": "[encoded data removed]",
      "text/plain": [
       "<Figure size 300x300 with 4 Axes>"
      ]
     },
     "metadata": {},
     "output_type": "display_data"
    },
    {
     "data": {
      "image/png": "[encoded data removed]",
      "text/plain": [
       "<Figure size 240x360 with 5 Axes>"
      ]
     },
     "metadata": {},
     "output_type": "display_data"
    },
    {
     "name": "stdout",
     "output_type": "stream",
     "text": [
      "       combination  score  guess  n.uniq  exists         score.tuple\n",
      "0  (J, A, U, N, T)     25  JAUNT       5    True  [[25, 1], [25, 1]]\n",
      "1  (H, A, U, N, T)     25  HAUNT       5    True  [[25, 1], [25, 1]]\n",
      "2  (G, A, U, N, T)     25  GAUNT       5    True  [[25, 1], [25, 1]]\n",
      "3  (T, A, U, N, T)     25  TAUNT       4    True  [[25, 1], [25, 1]]\n",
      "\n",
      "\n",
      "GUESS # 3 JAUNT left 5\n"
     ]
    },
    {
     "data": {
      "image/png": "[encoded data removed]",
      "text/plain": [
       "<Figure size 300x300 with 4 Axes>"
      ]
     },
     "metadata": {},
     "output_type": "display_data"
    },
    {
     "data": {
      "image/png": "[encoded data removed]",
      "text/plain": [
       "<Figure size 240x360 with 5 Axes>"
      ]
     },
     "metadata": {},
     "output_type": "display_data"
    },
    {
     "name": "stdout",
     "output_type": "stream",
     "text": [
      "       combination  score  guess  n.uniq  exists         score.tuple\n",
      "0  (H, A, U, N, T)     21  HAUNT       5    True  [[21, 1], [21, 1]]\n",
      "1  (G, A, U, N, T)     21  GAUNT       5    True  [[21, 1], [21, 1]]\n",
      "3  (D, A, U, N, T)     21  DAUNT       5    True  [[21, 1], [21, 1]]\n",
      "2  (T, A, U, N, T)     21  TAUNT       4    True  [[21, 1], [21, 1]]\n",
      "\n",
      "\n",
      "GUESS # 4 HAUNT left 4\n"
     ]
    },
    {
     "data": {
      "image/png": "[encoded data removed]",
      "text/plain": [
       "<Figure size 300x300 with 4 Axes>"
      ]
     },
     "metadata": {},
     "output_type": "display_data"
    },
    {
     "data": {
      "image/png": "[encoded data removed]",
      "text/plain": [
       "<Figure size 240x360 with 5 Axes>"
      ]
     },
     "metadata": {},
     "output_type": "display_data"
    },
    {
     "name": "stdout",
     "output_type": "stream",
     "text": [
      "       combination  score  guess  n.uniq  exists         score.tuple\n",
      "0  (G, A, U, N, T)     17  GAUNT       5    True  [[17, 1], [17, 1]]\n",
      "2  (D, A, U, N, T)     17  DAUNT       5    True  [[17, 1], [17, 1]]\n",
      "3  (V, A, U, N, T)     17  VAUNT       5    True  [[17, 1], [17, 1]]\n",
      "1  (T, A, U, N, T)     17  TAUNT       4    True  [[17, 1], [17, 1]]\n",
      "\n",
      "\n",
      "GUESS # 5 GAUNT left 3\n"
     ]
    },
    {
     "data": {
      "image/png": "[encoded data removed]",
      "text/plain": [
       "<Figure size 300x300 with 4 Axes>"
      ]
     },
     "metadata": {},
     "output_type": "display_data"
    },
    {
     "data": {
      "image/png": "[encoded data removed]",
      "text/plain": [
       "<Figure size 240x360 with 5 Axes>"
      ]
     },
     "metadata": {},
     "output_type": "display_data"
    },
    {
     "name": "stdout",
     "output_type": "stream",
     "text": [
      "day 7 done...\n",
      "\n",
      "\n",
      "total guesses 5\n"
     ]
    }
   ],
   "source": [
    "\n",
    "query_day_i = 10\n",
    "idx = query_day_i * 2 + 2\n",
    "\n",
    "print('')\n",
    "# print(next_args[idx])\n",
    "print('')\n",
    "run_query(next_args[idx][0], next_args[idx][1], next_args[idx][2], plot=True, log=True)"
   ]
  },
  {
   "cell_type": "markdown",
   "metadata": {},
   "source": [
    "#### Define the number of cores to be used (e.g. 2, based on device)"
   ]
  },
  {
   "cell_type": "code",
   "execution_count": 2637,
   "metadata": {},
   "outputs": [],
   "source": [
    "n_cores = 7"
   ]
  },
  {
   "cell_type": "code",
   "execution_count": 2638,
   "metadata": {},
   "outputs": [
    {
     "data": {
      "text/plain": [
       "600"
      ]
     },
     "execution_count": 2638,
     "metadata": {},
     "output_type": "execute_result"
    }
   ],
   "source": [
    "len(next_args)"
   ]
  },
  {
   "cell_type": "code",
   "execution_count": null,
   "metadata": {},
   "outputs": [
    {
     "name": "stdout",
     "output_type": "stream",
     "text": [
      "run function <function run_query at 0x7f78a6428710> with n_cores = 7\n",
      "<function run_query at 0x7f78a6428710>\n",
      "# Total groups 86\n",
      "Current group 0 (start/end) 0 7\n",
      "Current group 10 (start/end) 70 77\n",
      "Current group 20 (start/end) 140 147\n",
      "Current group 30 (start/end) 210 217\n",
      "Current group 40 (start/end) 280 287\n",
      "Current group 50 (start/end) 350 357\n",
      "Current group 60 (start/end) 420 427\n",
      "Current group 70 (start/end) 490 497\n"
     ]
    }
   ],
   "source": [
    "manager = multiprocessing.Manager()\n",
    "return_dict = manager.dict()\n",
    "ThreadingUtils.run(run_query, next_args, n_cores=n_cores, input_list_kwargs=[{} for args in next_args])"
   ]
  },
  {
   "cell_type": "markdown",
   "metadata": {},
   "source": [
    "### Visualize results"
   ]
  },
  {
   "cell_type": "code",
   "execution_count": null,
   "metadata": {},
   "outputs": [],
   "source": [
    "final_scores = []\n",
    "for k in return_dict.keys():\n",
    "    # print(k)\n",
    "    # print(k, return_dict[k])\n",
    "    next_scores = return_dict[k]\n",
    "    \n",
    "    final_scores.append(next_scores)\n",
    "\n",
    "res.sort_values('n.guesses', ascending=False).head()\n",
    "res = pd.DataFrame(final_scores, columns=['day.i', 'strategy', 'sort.ascending', 'word', 'n.guesses'])\n",
    "\n",
    "# matrix format\n",
    "m = res.pivot('word', 'strategy', 'n.guesses')\n"
   ]
  },
  {
   "cell_type": "markdown",
   "metadata": {},
   "source": [
    "#### Visualizing number of guesses by strategy"
   ]
  },
  {
   "cell_type": "code",
   "execution_count": null,
   "metadata": {},
   "outputs": [],
   "source": [
    "m"
   ]
  },
  {
   "cell_type": "code",
   "execution_count": null,
   "metadata": {},
   "outputs": [],
   "source": [
    "m['diff'] = m['letter.frequency.position.with.covariation'] - m['letter.frequency.position']\n",
    "m.sort_values('diff', ascending=False).head()"
   ]
  },
  {
   "cell_type": "code",
   "execution_count": null,
   "metadata": {},
   "outputs": [],
   "source": [
    "m.sort_values('diff', ascending=False).tail()"
   ]
  },
  {
   "cell_type": "code",
   "execution_count": null,
   "metadata": {},
   "outputs": [],
   "source": [
    "res.groupby('strategy').mean()[['n.guesses']]"
   ]
  },
  {
   "cell_type": "code",
   "execution_count": null,
   "metadata": {},
   "outputs": [],
   "source": [
    "sns.boxplot(data=res, x='strategy', y='n.guesses')\n",
    "sns.displot(data=res, x='n.guesses', hue='strategy')\n"
   ]
  },
  {
   "cell_type": "code",
   "execution_count": null,
   "metadata": {},
   "outputs": [],
   "source": [
    "plt.scatter(m['freq.and.pos'], m['freq'])\n",
    "plt.xlabel('freq.n.pos')\n",
    "plt.ylabel('letter frequency')\n",
    "plt.plot([0, 5], [0, 5])"
   ]
  }
 ],
 "metadata": {
  "kernelspec": {
   "display_name": "Python [conda env:mypython3] *",
   "language": "python",
   "name": "conda-env-mypython3-py"
  },
  "language_info": {
   "codemirror_mode": {
    "name": "ipython",
    "version": 3
   },
   "file_extension": ".py",
   "mimetype": "text/x-python",
   "name": "python",
   "nbconvert_exporter": "python",
   "pygments_lexer": "ipython3",
   "version": "3.7.8"
  }
 },
 "nbformat": 4,
 "nbformat_minor": 4
}
