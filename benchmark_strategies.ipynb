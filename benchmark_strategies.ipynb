{
 "cells": [
  {
   "cell_type": "code",
   "execution_count": 407,
   "metadata": {},
   "outputs": [],
   "source": [
    "# %load_ext autoreload\n",
    "# %autoreload 2"
   ]
  },
  {
   "cell_type": "code",
   "execution_count": 408,
   "metadata": {},
   "outputs": [],
   "source": [
    "import wordle"
   ]
  },
  {
   "cell_type": "code",
   "execution_count": 409,
   "metadata": {},
   "outputs": [],
   "source": [
    "# we need unidecode to fix accents in certain words\n",
    "\n",
    "import pandas as pd\n",
    "pd.set_option('display.max_rows', 500)\n",
    "pd.set_option('display.max_columns', 500)\n",
    "pd.set_option('display.width', 1000)\n",
    "\n",
    "import numpy as np\n",
    "import seaborn as sns\n",
    "\n",
    "import matplotlib.pyplot as plt\n",
    "from matplotlib.pyplot import rcParams\n",
    "rcParams['figure.figsize'] = 7, 6\n",
    "rcParams['figure.dpi'] = 60\n",
    "\n",
    "import warnings\n",
    "warnings.filterwarnings(\"ignore\")\n"
   ]
  },
  {
   "cell_type": "markdown",
   "metadata": {},
   "source": [
    "### Load words from dictionaries to be tested"
   ]
  },
  {
   "cell_type": "code",
   "execution_count": 410,
   "metadata": {},
   "outputs": [
    {
     "data": {
      "image/png": "[encoded data removed]",
      "text/plain": [
       "<Figure size 420x360 with 1 Axes>"
      ]
     },
     "metadata": {},
     "output_type": "display_data"
    }
   ],
   "source": [
    "words_by_dictionary, df_by_dictionary = wordle.load_dictionaries()"
   ]
  },
  {
   "cell_type": "markdown",
   "metadata": {},
   "source": [
    "### Main simulation function that gets parallelized"
   ]
  },
  {
   "cell_type": "code",
   "execution_count": 411,
   "metadata": {},
   "outputs": [],
   "source": [
    "\n",
    "def run_query(qi, query, df_bkp, plot=False, log=False):\n",
    "    # avoid printing warnings during parallel running\n",
    "    import warnings; warnings.filterwarnings(\"ignore\")\n",
    "    \n",
    "    day_i, dictionary_name, challenge_word, strategy = query\n",
    "    \n",
    "    if log:\n",
    "        print(day_i, dictionary_name, challenge_word, strategy)\n",
    "    select_by, sort_ascending = strategy\n",
    "    guess_i = 0\n",
    "    remaining_words = list(df_bkp['word'])\n",
    "    \n",
    "    assert challenge_word in remaining_words\n",
    "    n_letters = len(remaining_words[0])\n",
    "    \n",
    "    last_guesses = set()\n",
    "    \n",
    "    while guess_i < 7:\n",
    "        guess_i += 1    \n",
    "\n",
    "        best_guess = wordle.infer(remaining_words, strategy[0], last_guesses=last_guesses)\n",
    "        \n",
    "        last_guesses.add(best_guess)\n",
    "        remaining_words_by_guess = wordle.get_guesses(remaining_words, challenge_word, [best_guess])\n",
    "        assert challenge_word in remaining_words\n",
    "\n",
    "        if log:\n",
    "            print('\\n\\nGUESS # %i' % guess_i, best_guess, len(remaining_words))\n",
    "        \n",
    "        \n",
    "        remaining_words = remaining_words_by_guess[best_guess]\n",
    "        \n",
    "        \n",
    "            ## the word has been guessed. Stop.\n",
    "        if len(remaining_words) <= 1:\n",
    "            # print('after this word, only %i words left' % len(remaining_words))\n",
    "            # print('')\n",
    "            if best_guess != remaining_words[0]:\n",
    "                # print('last guess wrong. One additional guess wouldve been required')\n",
    "                guess_i += 1\n",
    "            break\n",
    "        if log:\n",
    "            print('left', len(remaining_words))\n",
    "        \n",
    "        wordle.plot_words(remaining_words, plot=plot, challenge_word=challenge_word)\n",
    "\n",
    "    final_scores = [day_i, select_by, sort_ascending, dictionary_name, challenge_word, guess_i]\n",
    "    # print(final_scores)\n",
    "    \n",
    "    return_dict[qi] = final_scores\n",
    "    \n",
    "    if log:\n",
    "        print('day %i done...\\n\\n' % day_i)\n",
    "        print('total guesses', guess_i)"
   ]
  },
  {
   "cell_type": "markdown",
   "metadata": {},
   "source": [
    "### Simulate a challenge\n",
    "#### Prepare queries for main function"
   ]
  },
  {
   "cell_type": "code",
   "execution_count": 412,
   "metadata": {},
   "outputs": [
    {
     "name": "stdout",
     "output_type": "stream",
     "text": [
      "None 2315 48648\n"
     ]
    },
    {
     "data": {
      "text/plain": [
       "48648"
      ]
     },
     "execution_count": 412,
     "metadata": {},
     "output_type": "execute_result"
    }
   ],
   "source": [
    "import random\n",
    "random.seed(500)\n",
    "\n",
    "# strategy name, sorting type\n",
    "strategies = [['wordfreq', False],\n",
    "              ['posfreq', False],\n",
    "              ['posfreqcovar', False]]\n",
    "\n",
    "n_days = None # 30 # None # 15 #\n",
    "# n_days = None  # test everything\n",
    "\n",
    "\n",
    "all_words = []\n",
    "for k in words_by_dictionary:\n",
    "    words = words_by_dictionary[k]    \n",
    "    if n_days is not None:\n",
    "        if n_days <= len(words):\n",
    "            words = random.sample(words, n_days)\n",
    "    all_words += [[k, w] for w in words]    \n",
    "\n",
    "queries = [[day_i, q[0], q[1], st] for day_i, q in enumerate(all_words) for st in strategies]\n",
    "print(n_days, len(words), len(queries))\n",
    "\n",
    "next_args = [[qi, q, df_by_dictionary[q[1]]] for qi, q in enumerate(queries)]\n",
    "len(next_args)\n",
    "# next_args[10][:2]"
   ]
  },
  {
   "cell_type": "code",
   "execution_count": 413,
   "metadata": {},
   "outputs": [],
   "source": [
    "import multiprocessing\n",
    "manager = multiprocessing.Manager()\n",
    "return_dict = manager.dict()"
   ]
  },
  {
   "cell_type": "markdown",
   "metadata": {},
   "source": [
    "### Debug one case, to examine intermediat viz"
   ]
  },
  {
   "cell_type": "code",
   "execution_count": 414,
   "metadata": {},
   "outputs": [],
   "source": [
    "# for q in next_args:\n",
    "#     if q[1][2] == 'TABOO':\n",
    "#         print(q)\n",
    "        \n",
    "custom_args = [q for q in next_args if len(q[1][2]) == 5]\n",
    "# custom_args = next_args"
   ]
  },
  {
   "cell_type": "code",
   "execution_count": 415,
   "metadata": {},
   "outputs": [
    {
     "name": "stdout",
     "output_type": "stream",
     "text": [
      "\n",
      "\n",
      "11586 wordle_5 WRIST ['wordfreq', False]\n",
      "\n",
      "\n",
      "GUESS # 1 ALERT 2315\n",
      "left 24\n",
      "\n",
      "\n",
      "GUESS # 2 FROST 24\n",
      "left 4\n",
      "\n",
      "\n",
      "GUESS # 3 CRUST 4\n",
      "left 2\n",
      "\n",
      "\n",
      "GUESS # 4 WRIST 2\n",
      "day 11586 done...\n",
      "\n",
      "\n",
      "total guesses 4\n"
     ]
    },
    {
     "data": {
      "image/png": "[encoded data removed]",
      "text/plain": [
       "<Figure size 300x300 with 4 Axes>"
      ]
     },
     "metadata": {},
     "output_type": "display_data"
    },
    {
     "data": {
      "image/png": "[encoded data removed]",
      "text/plain": [
       "<Figure size 240x360 with 5 Axes>"
      ]
     },
     "metadata": {},
     "output_type": "display_data"
    },
    {
     "data": {
      "image/png": "[encoded data removed]",
      "text/plain": [
       "<Figure size 300x300 with 4 Axes>"
      ]
     },
     "metadata": {},
     "output_type": "display_data"
    },
    {
     "data": {
      "image/png": "[encoded data removed]",
      "text/plain": [
       "<Figure size 240x360 with 5 Axes>"
      ]
     },
     "metadata": {},
     "output_type": "display_data"
    },
    {
     "data": {
      "image/png": "[encoded data removed]",
      "text/plain": [
       "<Figure size 300x300 with 4 Axes>"
      ]
     },
     "metadata": {},
     "output_type": "display_data"
    },
    {
     "data": {
      "image/png": "[encoded data removed]",
      "text/plain": [
       "<Figure size 240x360 with 5 Axes>"
      ]
     },
     "metadata": {},
     "output_type": "display_data"
    }
   ],
   "source": [
    "idx = 0\n",
    "print('')\n",
    "# print(next_args[idx])\n",
    "print('')\n",
    "run_query(custom_args[idx][0], custom_args[idx][1], custom_args[idx][2], plot=True, log=True)"
   ]
  },
  {
   "cell_type": "markdown",
   "metadata": {},
   "source": [
    "#### Define the number of cores to be used (e.g. 2, based on device)"
   ]
  },
  {
   "cell_type": "code",
   "execution_count": 416,
   "metadata": {},
   "outputs": [],
   "source": [
    "n_cores = 5"
   ]
  },
  {
   "cell_type": "code",
   "execution_count": null,
   "metadata": {},
   "outputs": [],
   "source": [
    "manager = multiprocessing.Manager()\n",
    "return_dict = manager.dict()\n",
    "wordle.ThreadingUtils.run(run_query, next_args, n_cores=n_cores, input_list_kwargs=[{} for args in next_args])"
   ]
  },
  {
   "cell_type": "markdown",
   "metadata": {},
   "source": [
    "### Visualize results"
   ]
  },
  {
   "cell_type": "code",
   "execution_count": null,
   "metadata": {},
   "outputs": [],
   "source": [
    "final_scores = []\n",
    "for k in return_dict.keys():\n",
    "    # print(k)\n",
    "    # print(k, return_dict[k])\n",
    "    next_scores = return_dict[k]\n",
    "    \n",
    "    final_scores.append(next_scores)\n",
    "    if len(final_scores) == len(next_args):\n",
    "        break\n",
    "\n",
    "res = pd.DataFrame(final_scores, columns=['day.i', 'strategy', 'sort.ascending', 'dictionary.name', 'word', 'n.guesses'])\n",
    "res['k'] = res['dictionary.name'] + ':' + res['word']\n",
    "# matrix format\n",
    "m = res.pivot('k', 'strategy', 'n.guesses')\n",
    "res.sort_values('n.guesses', ascending=False).head()\n"
   ]
  },
  {
   "cell_type": "code",
   "execution_count": 430,
   "metadata": {},
   "outputs": [
    {
     "data": {
      "text/plain": [
       "(48648, 7)"
      ]
     },
     "execution_count": 430,
     "metadata": {},
     "output_type": "execute_result"
    }
   ],
   "source": [
    "res.shape"
   ]
  },
  {
   "cell_type": "markdown",
   "metadata": {},
   "source": [
    "#### Visualizing number of guesses by strategy"
   ]
  },
  {
   "cell_type": "code",
   "execution_count": 431,
   "metadata": {},
   "outputs": [
    {
     "data": {
      "text/html": [
       "<div>\n",
       "<style scoped>\n",
       "    .dataframe tbody tr th:only-of-type {\n",
       "        vertical-align: middle;\n",
       "    }\n",
       "\n",
       "    .dataframe tbody tr th {\n",
       "        vertical-align: top;\n",
       "    }\n",
       "\n",
       "    .dataframe thead th {\n",
       "        text-align: right;\n",
       "    }\n",
       "</style>\n",
       "<table border=\"1\" class=\"dataframe\">\n",
       "  <thead>\n",
       "    <tr style=\"text-align: right;\">\n",
       "      <th>strategy</th>\n",
       "      <th>posfreq</th>\n",
       "      <th>posfreqcovar</th>\n",
       "      <th>wordfreq</th>\n",
       "      <th>diff</th>\n",
       "    </tr>\n",
       "    <tr>\n",
       "      <th>k</th>\n",
       "      <th></th>\n",
       "      <th></th>\n",
       "      <th></th>\n",
       "      <th></th>\n",
       "    </tr>\n",
       "  </thead>\n",
       "  <tbody>\n",
       "    <tr>\n",
       "      <th>wordle_4:PRES</th>\n",
       "      <td>2</td>\n",
       "      <td>8</td>\n",
       "      <td>7</td>\n",
       "      <td>6</td>\n",
       "    </tr>\n",
       "    <tr>\n",
       "      <th>american_4:PRES</th>\n",
       "      <td>2</td>\n",
       "      <td>8</td>\n",
       "      <td>7</td>\n",
       "      <td>6</td>\n",
       "    </tr>\n",
       "    <tr>\n",
       "      <th>american_4:SINE</th>\n",
       "      <td>2</td>\n",
       "      <td>7</td>\n",
       "      <td>7</td>\n",
       "      <td>5</td>\n",
       "    </tr>\n",
       "    <tr>\n",
       "      <th>american_3:EIR</th>\n",
       "      <td>2</td>\n",
       "      <td>7</td>\n",
       "      <td>7</td>\n",
       "      <td>5</td>\n",
       "    </tr>\n",
       "    <tr>\n",
       "      <th>wordle_4:STAR</th>\n",
       "      <td>2</td>\n",
       "      <td>7</td>\n",
       "      <td>8</td>\n",
       "      <td>5</td>\n",
       "    </tr>\n",
       "  </tbody>\n",
       "</table>\n",
       "</div>"
      ],
      "text/plain": [
       "strategy         posfreq  posfreqcovar  wordfreq  diff\n",
       "k                                                     \n",
       "wordle_4:PRES          2             8         7     6\n",
       "american_4:PRES        2             8         7     6\n",
       "american_4:SINE        2             7         7     5\n",
       "american_3:EIR         2             7         7     5\n",
       "wordle_4:STAR          2             7         8     5"
      ]
     },
     "execution_count": 431,
     "metadata": {},
     "output_type": "execute_result"
    }
   ],
   "source": [
    "# best covariation\n",
    "m['diff'] = m['posfreqcovar'] - m['posfreq']\n",
    "m.sort_values('diff', ascending=False).head()"
   ]
  },
  {
   "cell_type": "code",
   "execution_count": 432,
   "metadata": {},
   "outputs": [
    {
     "data": {
      "text/html": [
       "<div>\n",
       "<style scoped>\n",
       "    .dataframe tbody tr th:only-of-type {\n",
       "        vertical-align: middle;\n",
       "    }\n",
       "\n",
       "    .dataframe tbody tr th {\n",
       "        vertical-align: top;\n",
       "    }\n",
       "\n",
       "    .dataframe thead th {\n",
       "        text-align: right;\n",
       "    }\n",
       "</style>\n",
       "<table border=\"1\" class=\"dataframe\">\n",
       "  <thead>\n",
       "    <tr style=\"text-align: right;\">\n",
       "      <th>strategy</th>\n",
       "      <th>posfreq</th>\n",
       "      <th>posfreqcovar</th>\n",
       "      <th>wordfreq</th>\n",
       "      <th>diff</th>\n",
       "    </tr>\n",
       "    <tr>\n",
       "      <th>k</th>\n",
       "      <th></th>\n",
       "      <th></th>\n",
       "      <th></th>\n",
       "      <th></th>\n",
       "    </tr>\n",
       "  </thead>\n",
       "  <tbody>\n",
       "    <tr>\n",
       "      <th>wordle_3:OEY</th>\n",
       "      <td>7</td>\n",
       "      <td>1</td>\n",
       "      <td>7</td>\n",
       "      <td>-6</td>\n",
       "    </tr>\n",
       "    <tr>\n",
       "      <th>american_5:BILLY</th>\n",
       "      <td>8</td>\n",
       "      <td>2</td>\n",
       "      <td>4</td>\n",
       "      <td>-6</td>\n",
       "    </tr>\n",
       "    <tr>\n",
       "      <th>wordle_3:MEO</th>\n",
       "      <td>8</td>\n",
       "      <td>2</td>\n",
       "      <td>7</td>\n",
       "      <td>-6</td>\n",
       "    </tr>\n",
       "    <tr>\n",
       "      <th>american_3:OEY</th>\n",
       "      <td>7</td>\n",
       "      <td>1</td>\n",
       "      <td>7</td>\n",
       "      <td>-6</td>\n",
       "    </tr>\n",
       "    <tr>\n",
       "      <th>wordle_5:BILLY</th>\n",
       "      <td>8</td>\n",
       "      <td>2</td>\n",
       "      <td>4</td>\n",
       "      <td>-6</td>\n",
       "    </tr>\n",
       "  </tbody>\n",
       "</table>\n",
       "</div>"
      ],
      "text/plain": [
       "strategy          posfreq  posfreqcovar  wordfreq  diff\n",
       "k                                                      \n",
       "wordle_3:OEY            7             1         7    -6\n",
       "american_5:BILLY        8             2         4    -6\n",
       "wordle_3:MEO            8             2         7    -6\n",
       "american_3:OEY          7             1         7    -6\n",
       "wordle_5:BILLY          8             2         4    -6"
      ]
     },
     "execution_count": 432,
     "metadata": {},
     "output_type": "execute_result"
    }
   ],
   "source": [
    "# worst covariation\n",
    "m.sort_values('diff', ascending=False).tail()"
   ]
  },
  {
   "cell_type": "code",
   "execution_count": 433,
   "metadata": {},
   "outputs": [
    {
     "data": {
      "text/html": [
       "<div>\n",
       "<style scoped>\n",
       "    .dataframe tbody tr th:only-of-type {\n",
       "        vertical-align: middle;\n",
       "    }\n",
       "\n",
       "    .dataframe tbody tr th {\n",
       "        vertical-align: top;\n",
       "    }\n",
       "\n",
       "    .dataframe thead th {\n",
       "        text-align: right;\n",
       "    }\n",
       "</style>\n",
       "<table border=\"1\" class=\"dataframe\">\n",
       "  <thead>\n",
       "    <tr style=\"text-align: right;\">\n",
       "      <th></th>\n",
       "      <th></th>\n",
       "      <th>n.guesses</th>\n",
       "    </tr>\n",
       "    <tr>\n",
       "      <th>dictionary.name</th>\n",
       "      <th>strategy</th>\n",
       "      <th></th>\n",
       "    </tr>\n",
       "  </thead>\n",
       "  <tbody>\n",
       "    <tr>\n",
       "      <th rowspan=\"3\" valign=\"top\">american_3</th>\n",
       "      <th>posfreq</th>\n",
       "      <td>6.206537</td>\n",
       "    </tr>\n",
       "    <tr>\n",
       "      <th>posfreqcovar</th>\n",
       "      <td>6.277803</td>\n",
       "    </tr>\n",
       "    <tr>\n",
       "      <th>wordfreq</th>\n",
       "      <td>6.185656</td>\n",
       "    </tr>\n",
       "    <tr>\n",
       "      <th rowspan=\"3\" valign=\"top\">american_4</th>\n",
       "      <th>posfreq</th>\n",
       "      <td>4.865738</td>\n",
       "    </tr>\n",
       "    <tr>\n",
       "      <th>posfreqcovar</th>\n",
       "      <td>5.031476</td>\n",
       "    </tr>\n",
       "    <tr>\n",
       "      <th>wordfreq</th>\n",
       "      <td>4.842897</td>\n",
       "    </tr>\n",
       "    <tr>\n",
       "      <th rowspan=\"3\" valign=\"top\">american_5</th>\n",
       "      <th>posfreq</th>\n",
       "      <td>3.701944</td>\n",
       "    </tr>\n",
       "    <tr>\n",
       "      <th>posfreqcovar</th>\n",
       "      <td>3.853564</td>\n",
       "    </tr>\n",
       "    <tr>\n",
       "      <th>wordfreq</th>\n",
       "      <td>3.678186</td>\n",
       "    </tr>\n",
       "    <tr>\n",
       "      <th rowspan=\"3\" valign=\"top\">wordle_3</th>\n",
       "      <th>posfreq</th>\n",
       "      <td>6.206537</td>\n",
       "    </tr>\n",
       "    <tr>\n",
       "      <th>posfreqcovar</th>\n",
       "      <td>6.277803</td>\n",
       "    </tr>\n",
       "    <tr>\n",
       "      <th>wordfreq</th>\n",
       "      <td>6.185656</td>\n",
       "    </tr>\n",
       "    <tr>\n",
       "      <th rowspan=\"3\" valign=\"top\">wordle_4</th>\n",
       "      <th>posfreq</th>\n",
       "      <td>4.865738</td>\n",
       "    </tr>\n",
       "    <tr>\n",
       "      <th>posfreqcovar</th>\n",
       "      <td>5.031476</td>\n",
       "    </tr>\n",
       "    <tr>\n",
       "      <th>wordfreq</th>\n",
       "      <td>4.842897</td>\n",
       "    </tr>\n",
       "    <tr>\n",
       "      <th rowspan=\"3\" valign=\"top\">wordle_5</th>\n",
       "      <th>posfreq</th>\n",
       "      <td>3.701944</td>\n",
       "    </tr>\n",
       "    <tr>\n",
       "      <th>posfreqcovar</th>\n",
       "      <td>3.853564</td>\n",
       "    </tr>\n",
       "    <tr>\n",
       "      <th>wordfreq</th>\n",
       "      <td>3.678186</td>\n",
       "    </tr>\n",
       "  </tbody>\n",
       "</table>\n",
       "</div>"
      ],
      "text/plain": [
       "                              n.guesses\n",
       "dictionary.name strategy               \n",
       "american_3      posfreq        6.206537\n",
       "                posfreqcovar   6.277803\n",
       "                wordfreq       6.185656\n",
       "american_4      posfreq        4.865738\n",
       "                posfreqcovar   5.031476\n",
       "                wordfreq       4.842897\n",
       "american_5      posfreq        3.701944\n",
       "                posfreqcovar   3.853564\n",
       "                wordfreq       3.678186\n",
       "wordle_3        posfreq        6.206537\n",
       "                posfreqcovar   6.277803\n",
       "                wordfreq       6.185656\n",
       "wordle_4        posfreq        4.865738\n",
       "                posfreqcovar   5.031476\n",
       "                wordfreq       4.842897\n",
       "wordle_5        posfreq        3.701944\n",
       "                posfreqcovar   3.853564\n",
       "                wordfreq       3.678186"
      ]
     },
     "execution_count": 433,
     "metadata": {},
     "output_type": "execute_result"
    }
   ],
   "source": [
    "res.groupby(['dictionary.name', 'strategy']).mean()[['n.guesses']] # .sort_values('n.guesses')"
   ]
  },
  {
   "cell_type": "code",
   "execution_count": 434,
   "metadata": {},
   "outputs": [],
   "source": [
    "import matplotlib as mpl\n",
    "mpl.rcParams.update(mpl.rcParamsDefault)\n"
   ]
  },
  {
   "cell_type": "code",
   "execution_count": 435,
   "metadata": {},
   "outputs": [
    {
     "data": {
      "image/png": "[encoded data removed]",
      "text/plain": [
       "<Figure size 640x480 with 1 Axes>"
      ]
     },
     "metadata": {},
     "output_type": "display_data"
    }
   ],
   "source": [
    "sns.boxplot(data=res, hue='strategy', y='n.guesses', x='dictionary.name', order=['american_3', 'american_4', 'american_5', 'wordle_3', 'wordle_4', 'wordle_5'],\n",
    "            hue_order=['wordfreq', 'posfreq', 'posfreqcovar'], fliersize=0)\n",
    "plt.legend(bbox_to_anchor=(1.05, 1), loc=2, borderaxespad=0.)\n",
    "\n",
    "plt.xticks(rotation=45, ha='right')\n",
    "plt.xlabel('dictionary')\n",
    "plt.ylabel('# guesses')\n",
    "\n",
    "plt.tight_layout()\n",
    "plt.savefig('out/benchmarking_results.png')\n",
    "plt.show()\n"
   ]
  },
  {
   "cell_type": "code",
   "execution_count": 436,
   "metadata": {},
   "outputs": [
    {
     "data": {
      "text/html": [
       "<div>\n",
       "<style scoped>\n",
       "    .dataframe tbody tr th:only-of-type {\n",
       "        vertical-align: middle;\n",
       "    }\n",
       "\n",
       "    .dataframe tbody tr th {\n",
       "        vertical-align: top;\n",
       "    }\n",
       "\n",
       "    .dataframe thead th {\n",
       "        text-align: right;\n",
       "    }\n",
       "</style>\n",
       "<table border=\"1\" class=\"dataframe\">\n",
       "  <thead>\n",
       "    <tr style=\"text-align: right;\">\n",
       "      <th></th>\n",
       "      <th></th>\n",
       "      <th>n.guesses</th>\n",
       "    </tr>\n",
       "    <tr>\n",
       "      <th>dictionary.name</th>\n",
       "      <th>strategy</th>\n",
       "      <th></th>\n",
       "    </tr>\n",
       "  </thead>\n",
       "  <tbody>\n",
       "    <tr>\n",
       "      <th rowspan=\"3\" valign=\"top\">american_5</th>\n",
       "      <th>posfreq</th>\n",
       "      <td>3.701944</td>\n",
       "    </tr>\n",
       "    <tr>\n",
       "      <th>posfreqcovar</th>\n",
       "      <td>3.853564</td>\n",
       "    </tr>\n",
       "    <tr>\n",
       "      <th>wordfreq</th>\n",
       "      <td>3.678186</td>\n",
       "    </tr>\n",
       "    <tr>\n",
       "      <th rowspan=\"3\" valign=\"top\">wordle_5</th>\n",
       "      <th>posfreq</th>\n",
       "      <td>3.701944</td>\n",
       "    </tr>\n",
       "    <tr>\n",
       "      <th>posfreqcovar</th>\n",
       "      <td>3.853564</td>\n",
       "    </tr>\n",
       "    <tr>\n",
       "      <th>wordfreq</th>\n",
       "      <td>3.678186</td>\n",
       "    </tr>\n",
       "  </tbody>\n",
       "</table>\n",
       "</div>"
      ],
      "text/plain": [
       "                              n.guesses\n",
       "dictionary.name strategy               \n",
       "american_5      posfreq        3.701944\n",
       "                posfreqcovar   3.853564\n",
       "                wordfreq       3.678186\n",
       "wordle_5        posfreq        3.701944\n",
       "                posfreqcovar   3.853564\n",
       "                wordfreq       3.678186"
      ]
     },
     "execution_count": 436,
     "metadata": {},
     "output_type": "execute_result"
    }
   ],
   "source": [
    "res[res['dictionary.name'].str.endswith('_5')].groupby(['dictionary.name', 'strategy']).mean()[['n.guesses']] # .sort_values('n.guesses')"
   ]
  },
  {
   "cell_type": "code",
   "execution_count": 437,
   "metadata": {},
   "outputs": [
    {
     "name": "stdout",
     "output_type": "stream",
     "text": [
      "('american_5', 'wordfreq') (2315, 7) 3.678185745140389\n",
      "('wordle_5', 'wordfreq') (2315, 7) 3.678185745140389\n"
     ]
    }
   ],
   "source": [
    "for k, grp2 in grp[grp['dictionary.name'].str.endswith('_5')].groupby(['dictionary.name', 'strategy']):\n",
    "    print(k, grp2.shape, np.mean(grp2['n.guesses']))"
   ]
  },
  {
   "cell_type": "code",
   "execution_count": 438,
   "metadata": {},
   "outputs": [
    {
     "data": {
      "text/plain": [
       "(4630, 7)"
      ]
     },
     "execution_count": 438,
     "metadata": {},
     "output_type": "execute_result"
    }
   ],
   "source": [
    "grp.shape"
   ]
  },
  {
   "cell_type": "code",
   "execution_count": null,
   "metadata": {},
   "outputs": [],
   "source": []
  },
  {
   "cell_type": "code",
   "execution_count": 439,
   "metadata": {},
   "outputs": [
    {
     "data": {
      "text/plain": [
       "n.guesses    3.678186\n",
       "dtype: float64"
      ]
     },
     "execution_count": 439,
     "metadata": {},
     "output_type": "execute_result"
    }
   ],
   "source": [
    "grp[['n.guesses']].mean()"
   ]
  },
  {
   "cell_type": "code",
   "execution_count": 440,
   "metadata": {},
   "outputs": [
    {
     "name": "stderr",
     "output_type": "stream",
     "text": [
      "No handles with labels found to put in legend.\n"
     ]
    },
    {
     "name": "stdout",
     "output_type": "stream",
     "text": [
      "                          n.guesses\n",
      "dictionary.name strategy           \n",
      "american_5      posfreq    3.701944\n",
      "wordle_5        posfreq    3.701944\n",
      "posfreq 4.0\n",
      "posfreq 3.7019438444924404\n"
     ]
    },
    {
     "name": "stderr",
     "output_type": "stream",
     "text": [
      "No handles with labels found to put in legend.\n",
      "No handles with labels found to put in legend.\n"
     ]
    },
    {
     "name": "stdout",
     "output_type": "stream",
     "text": [
      "                              n.guesses\n",
      "dictionary.name strategy               \n",
      "american_5      posfreqcovar   3.853564\n",
      "wordle_5        posfreqcovar   3.853564\n",
      "posfreqcovar 4.0\n",
      "posfreqcovar 3.853563714902808\n",
      "                          n.guesses\n",
      "dictionary.name strategy           \n",
      "american_5      wordfreq   3.678186\n",
      "wordle_5        wordfreq   3.678186\n",
      "wordfreq 4.0\n",
      "wordfreq 3.678185745140389\n"
     ]
    },
    {
     "data": {
      "image/png": "[encoded data removed]",
      "text/plain": [
       "<Figure size 640x480 with 3 Axes>"
      ]
     },
     "metadata": {},
     "output_type": "display_data"
    }
   ],
   "source": [
    "i = 1\n",
    "for st, grp in res.groupby('strategy'):\n",
    "    grp = grp[grp['dictionary.name'].str.endswith('_5')]\n",
    "    ax = plt.subplot(3, 1, i)\n",
    "    sns.histplot(grp, x='n.guesses', hue='strategy', ax=ax, bins=np.arange(0,5)+0.5) #  multiple='stack') # bins=4)\n",
    "    i += 1\n",
    "    plt.title(st + ' (5 letter dictionaries)')\n",
    "    ax.legend().set_visible(False)\n",
    "    \n",
    "    print(grp[grp['dictionary.name'].str.endswith('_5')].groupby(['dictionary.name', 'strategy']).mean()[['n.guesses']]) # # .sort_values('n.guesses'))\n",
    "    median = np.median(grp['n.guesses'].values)\n",
    "    print(st, median)\n",
    "    plt.axvline(median, c='blue')\n",
    "    \n",
    "    mean = np.mean(grp['n.guesses'].values)\n",
    "    print(st, mean)\n",
    "    plt.axvline(mean, c='red')\n",
    "\n",
    "    ax.locator_params(axis='y', integer=True)\n",
    "\n",
    "    \n",
    "plt.tight_layout()\n",
    "\n",
    "plt.savefig('out/benchmarking_5letters.png')\n",
    "plt.show()\n"
   ]
  },
  {
   "cell_type": "code",
   "execution_count": 441,
   "metadata": {},
   "outputs": [
    {
     "data": {
      "text/plain": [
       "[<matplotlib.lines.Line2D at 0x7f9ce04cf9d0>]"
      ]
     },
     "execution_count": 441,
     "metadata": {},
     "output_type": "execute_result"
    },
    {
     "data": {
      "image/png": "[encoded data removed]",
      "text/plain": [
       "<Figure size 640x480 with 1 Axes>"
      ]
     },
     "metadata": {},
     "output_type": "display_data"
    }
   ],
   "source": [
    "plt.scatter(m['posfreq'], m['posfreqcovar'])\n",
    "plt.xlabel('letter.frequency.position')\n",
    "plt.ylabel('letter.frequency.position.with.covariation')\n",
    "plt.plot([0, 5], [0, 5])"
   ]
  }
 ],
 "metadata": {
  "kernelspec": {
   "display_name": "Python [conda env:mypython3] *",
   "language": "python",
   "name": "conda-env-mypython3-py"
  },
  "language_info": {
   "codemirror_mode": {
    "name": "ipython",
    "version": 3
   },
   "file_extension": ".py",
   "mimetype": "text/x-python",
   "name": "python",
   "nbconvert_exporter": "python",
   "pygments_lexer": "ipython3",
   "version": "3.7.8"
  }
 },
 "nbformat": 4,
 "nbformat_minor": 4
}
