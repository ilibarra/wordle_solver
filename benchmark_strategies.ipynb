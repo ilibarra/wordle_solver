{
 "cells": [
  {
   "cell_type": "markdown",
   "metadata": {},
   "source": [
    "Use as ref all words from the Linux American dictionary with 5 words (uppercase)"
   ]
  },
  {
   "cell_type": "code",
   "execution_count": 89,
   "metadata": {},
   "outputs": [
    {
     "name": "stdout",
     "output_type": "stream",
     "text": [
      "The autoreload extension is already loaded. To reload it, use:\n",
      "  %reload_ext autoreload\n"
     ]
    }
   ],
   "source": [
    "%load_ext autoreload\n",
    "%autoreload 2"
   ]
  },
  {
   "cell_type": "code",
   "execution_count": 90,
   "metadata": {},
   "outputs": [],
   "source": [
    "import wordle"
   ]
  },
  {
   "cell_type": "code",
   "execution_count": 91,
   "metadata": {},
   "outputs": [],
   "source": [
    "# we need unidecode to fix accents in certain words\n",
    "\n",
    "import pandas as pd\n",
    "pd.set_option('display.max_rows', 500)\n",
    "pd.set_option('display.max_columns', 500)\n",
    "pd.set_option('display.width', 1000)\n",
    "\n",
    "import numpy as np\n",
    "import seaborn as sns\n",
    "\n",
    "import matplotlib.pyplot as plt\n",
    "from matplotlib.pyplot import rcParams\n",
    "rcParams['figure.figsize'] = 7, 6\n",
    "rcParams['figure.dpi'] = 60\n",
    "\n",
    "import warnings\n",
    "warnings.filterwarnings(\"ignore\")\n"
   ]
  },
  {
   "cell_type": "markdown",
   "metadata": {},
   "source": [
    "### Load words from dictionaries to be tested"
   ]
  },
  {
   "cell_type": "code",
   "execution_count": 92,
   "metadata": {},
   "outputs": [
    {
     "data": {
      "image/png": "[encoded data removed]",
      "text/plain": [
       "<Figure size 420x360 with 1 Axes>"
      ]
     },
     "metadata": {},
     "output_type": "display_data"
    }
   ],
   "source": [
    "words_by_dictionary, df_by_dictionary = wordle.load_dictionaries()"
   ]
  },
  {
   "cell_type": "markdown",
   "metadata": {},
   "source": [
    "### Main simulation function that gets parallelized"
   ]
  },
  {
   "cell_type": "code",
   "execution_count": 93,
   "metadata": {},
   "outputs": [],
   "source": [
    "\n",
    "def run_query(qi, query, df_bkp, plot=False, log=False):\n",
    "    # avoid printing warnings during parallel running\n",
    "    import warnings; warnings.filterwarnings(\"ignore\")\n",
    "    \n",
    "    day_i, dictionary_name, challenge_word, strategy = query\n",
    "    \n",
    "    if log:\n",
    "        print(day_i, dictionary_name, challenge_word, strategy)\n",
    "    select_by, sort_ascending = strategy\n",
    "    guess_i = 0\n",
    "    remaining_words = list(df_bkp['word'])\n",
    "    \n",
    "    assert challenge_word in remaining_words\n",
    "    n_letters = len(remaining_words[0])\n",
    "    \n",
    "    last_guesses = set()\n",
    "    \n",
    "    while guess_i < 7:\n",
    "        guess_i += 1    \n",
    "\n",
    "        best_guess = wordle.infer(remaining_words, strategy[0], last_guesses=last_guesses)\n",
    "        \n",
    "        last_guesses.add(best_guess)\n",
    "        remaining_words_by_guess = wordle.get_guesses(remaining_words, challenge_word, [best_guess])\n",
    "        assert challenge_word in remaining_words\n",
    "\n",
    "        if log:\n",
    "            print('\\n\\nGUESS # %i' % guess_i, best_guess, end=' ')\n",
    "        \n",
    "        remaining_words = remaining_words_by_guess[best_guess]\n",
    "        \n",
    "            ## the word has been guessed. Stop.\n",
    "        if len(remaining_words) <= 1:\n",
    "            if len(remaining_words) == 1:\n",
    "                guess_i += 1\n",
    "            break\n",
    "        if log:\n",
    "            print('left', len(remaining_words))\n",
    "        \n",
    "        wordle.plot_words(remaining_words)\n",
    "\n",
    "    final_scores = [day_i, select_by, sort_ascending, dictionary_name, challenge_word, guess_i]\n",
    "    # print(final_scores)\n",
    "    \n",
    "    return_dict[qi] = final_scores\n",
    "    \n",
    "    if log:\n",
    "        print('day %i done...\\n\\n' % day_i)\n",
    "        print('total guesses', guess_i)"
   ]
  },
  {
   "cell_type": "markdown",
   "metadata": {},
   "source": [
    "### Simulate a challenge\n",
    "#### Prepare queries for main function"
   ]
  },
  {
   "cell_type": "code",
   "execution_count": 94,
   "metadata": {},
   "outputs": [
    {
     "name": "stdout",
     "output_type": "stream",
     "text": [
      "500 500 9000\n"
     ]
    },
    {
     "data": {
      "text/plain": [
       "9000"
      ]
     },
     "execution_count": 94,
     "metadata": {},
     "output_type": "execute_result"
    }
   ],
   "source": [
    "import random\n",
    "random.seed(500)\n",
    "\n",
    "# strategy name, sorting type\n",
    "strategies = [['wordfreq', False],\n",
    "              ['posfreq', False],\n",
    "              ['posfreqcovar', False]]\n",
    "\n",
    "n_days = 500 # None # len()\n",
    "\n",
    "\n",
    "all_words = []\n",
    "for k in words_by_dictionary:\n",
    "    words = words_by_dictionary[k]    \n",
    "    if n_days is not None:\n",
    "        if n_days <= len(words):\n",
    "            words = random.sample(words, n_days)\n",
    "    all_words += [[k, w] for w in words]    \n",
    "\n",
    "queries = [[day_i, q[0], q[1], st] for day_i, q in enumerate(all_words) for st in strategies]\n",
    "print(n_days, len(words), len(queries))\n",
    "\n",
    "next_args = [[qi, q, df_by_dictionary[q[1]]] for qi, q in enumerate(queries)]\n",
    "len(next_args)\n",
    "# next_args[10][:2]"
   ]
  },
  {
   "cell_type": "code",
   "execution_count": 95,
   "metadata": {},
   "outputs": [],
   "source": [
    "import multiprocessing\n",
    "manager = multiprocessing.Manager()\n",
    "return_dict = manager.dict()"
   ]
  },
  {
   "cell_type": "markdown",
   "metadata": {},
   "source": [
    "### Debug one case, to examine intermediat viz"
   ]
  },
  {
   "cell_type": "code",
   "execution_count": 96,
   "metadata": {},
   "outputs": [
    {
     "name": "stdout",
     "output_type": "stream",
     "text": [
      "[6273, [2091, 'wordle_5', 'SOLAR', ['wordfreq', False]],       0  1  2  3  4  score   word\n",
      "0     W  R  I  S  T   3163  WRIST\n",
      "1     B  R  E  E  D   2806  BREED\n",
      "2     W  R  Y  L  Y   2238  WRYLY\n",
      "3     B  A  C  O  N   3066  BACON\n",
      "4     B  R  O  O  K   2144  BROOK\n",
      "...  .. .. .. .. ..    ...    ...\n",
      "2310  S  L  O  T  H   3260  SLOTH\n",
      "2311  E  S  S  A  Y   3306  ESSAY\n",
      "2312  S  T  I  C  K   2756  STICK\n",
      "2313  S  Q  U  A  D   2537  SQUAD\n",
      "2314  T  A  B  O  O   2743  TABOO\n",
      "\n",
      "[2315 rows x 7 columns]]\n",
      "[6274, [2091, 'wordle_5', 'SOLAR', ['posfreq', False]],       0  1  2  3  4  score   word\n",
      "0     W  R  I  S  T   3163  WRIST\n",
      "1     B  R  E  E  D   2806  BREED\n",
      "2     W  R  Y  L  Y   2238  WRYLY\n",
      "3     B  A  C  O  N   3066  BACON\n",
      "4     B  R  O  O  K   2144  BROOK\n",
      "...  .. .. .. .. ..    ...    ...\n",
      "2310  S  L  O  T  H   3260  SLOTH\n",
      "2311  E  S  S  A  Y   3306  ESSAY\n",
      "2312  S  T  I  C  K   2756  STICK\n",
      "2313  S  Q  U  A  D   2537  SQUAD\n",
      "2314  T  A  B  O  O   2743  TABOO\n",
      "\n",
      "[2315 rows x 7 columns]]\n",
      "[6275, [2091, 'wordle_5', 'SOLAR', ['posfreqcovar', False]],       0  1  2  3  4  score   word\n",
      "0     W  R  I  S  T   3163  WRIST\n",
      "1     B  R  E  E  D   2806  BREED\n",
      "2     W  R  Y  L  Y   2238  WRYLY\n",
      "3     B  A  C  O  N   3066  BACON\n",
      "4     B  R  O  O  K   2144  BROOK\n",
      "...  .. .. .. .. ..    ...    ...\n",
      "2310  S  L  O  T  H   3260  SLOTH\n",
      "2311  E  S  S  A  Y   3306  ESSAY\n",
      "2312  S  T  I  C  K   2756  STICK\n",
      "2313  S  Q  U  A  D   2537  SQUAD\n",
      "2314  T  A  B  O  O   2743  TABOO\n",
      "\n",
      "[2315 rows x 7 columns]]\n"
     ]
    }
   ],
   "source": [
    "for q in next_args:\n",
    "    if q[1][2] == 'SOLAR':\n",
    "        print(q)\n",
    "        \n",
    "# next_args = [q for q in next_args if q[1][2] == 'SOLAR']"
   ]
  },
  {
   "cell_type": "code",
   "execution_count": 97,
   "metadata": {},
   "outputs": [
    {
     "name": "stdout",
     "output_type": "stream",
     "text": [
      "\n",
      "\n",
      "0 wordle_3 INE ['posfreq', False]\n",
      "\n",
      "\n",
      "GUESS # 1 RIE left 15\n",
      "\n",
      "\n",
      "GUESS # 2 IPE left 14\n",
      "\n",
      "\n",
      "GUESS # 3 IGE left 13\n",
      "\n",
      "\n",
      "GUESS # 4 IDE left 12\n",
      "\n",
      "\n",
      "GUESS # 5 IXE left 11\n",
      "\n",
      "\n",
      "GUESS # 6 IFE left 10\n",
      "\n",
      "\n",
      "GUESS # 7 IKE left 9\n",
      "day 0 done...\n",
      "\n",
      "\n",
      "total guesses 7\n"
     ]
    }
   ],
   "source": [
    "idx = 1\n",
    "print('')\n",
    "# print(next_args[idx])\n",
    "print('')\n",
    "run_query(next_args[idx][0], next_args[idx][1], next_args[idx][2], plot=True, log=True)"
   ]
  },
  {
   "cell_type": "markdown",
   "metadata": {},
   "source": [
    "#### Define the number of cores to be used (e.g. 2, based on device)"
   ]
  },
  {
   "cell_type": "code",
   "execution_count": 100,
   "metadata": {},
   "outputs": [],
   "source": [
    "n_cores = 5"
   ]
  },
  {
   "cell_type": "code",
   "execution_count": 101,
   "metadata": {},
   "outputs": [
    {
     "name": "stdout",
     "output_type": "stream",
     "text": [
      "run function <function run_query at 0x7f9cdd996050> with n_cores = 5\n",
      "<function run_query at 0x7f9cdd996050>\n",
      "# Total groups 1801\n",
      "Current group 0 (start/end) 0 5\n",
      "Current group 10 (start/end) 50 55\n",
      "Current group 20 (start/end) 100 105\n",
      "Current group 30 (start/end) 150 155\n",
      "Current group 40 (start/end) 200 205\n",
      "Current group 50 (start/end) 250 255\n",
      "Current group 60 (start/end) 300 305\n",
      "Current group 70 (start/end) 350 355\n",
      "Current group 80 (start/end) 400 405\n",
      "Current group 90 (start/end) 450 455\n",
      "Current group 100 (start/end) 500 505\n",
      "Current group 110 (start/end) 550 555\n",
      "Current group 120 (start/end) 600 605\n",
      "Current group 130 (start/end) 650 655\n",
      "Current group 140 (start/end) 700 705\n",
      "Current group 150 (start/end) 750 755\n",
      "Current group 160 (start/end) 800 805\n",
      "Current group 170 (start/end) 850 855\n",
      "Current group 180 (start/end) 900 905\n",
      "Current group 190 (start/end) 950 955\n",
      "Current group 200 (start/end) 1000 1005\n",
      "Current group 210 (start/end) 1050 1055\n",
      "Current group 220 (start/end) 1100 1105\n",
      "Current group 230 (start/end) 1150 1155\n",
      "Current group 240 (start/end) 1200 1205\n",
      "Current group 250 (start/end) 1250 1255\n",
      "Current group 260 (start/end) 1300 1305\n",
      "Current group 270 (start/end) 1350 1355\n",
      "Current group 280 (start/end) 1400 1405\n",
      "Current group 290 (start/end) 1450 1455\n",
      "Current group 300 (start/end) 1500 1505\n",
      "Current group 310 (start/end) 1550 1555\n",
      "Current group 320 (start/end) 1600 1605\n",
      "Current group 330 (start/end) 1650 1655\n",
      "Current group 340 (start/end) 1700 1705\n",
      "Current group 350 (start/end) 1750 1755\n",
      "Current group 360 (start/end) 1800 1805\n",
      "Current group 370 (start/end) 1850 1855\n",
      "Current group 380 (start/end) 1900 1905\n",
      "Current group 390 (start/end) 1950 1955\n",
      "Current group 400 (start/end) 2000 2005\n",
      "Current group 410 (start/end) 2050 2055\n",
      "Current group 420 (start/end) 2100 2105\n",
      "Current group 430 (start/end) 2150 2155\n",
      "Current group 440 (start/end) 2200 2205\n",
      "Current group 450 (start/end) 2250 2255\n",
      "Current group 460 (start/end) 2300 2305\n",
      "Current group 470 (start/end) 2350 2355\n",
      "Current group 480 (start/end) 2400 2405\n",
      "Current group 490 (start/end) 2450 2455\n",
      "Current group 500 (start/end) 2500 2505\n",
      "Current group 510 (start/end) 2550 2555\n",
      "Current group 520 (start/end) 2600 2605\n",
      "Current group 530 (start/end) 2650 2655\n",
      "Current group 540 (start/end) 2700 2705\n",
      "Current group 550 (start/end) 2750 2755\n",
      "Current group 560 (start/end) 2800 2805\n",
      "Current group 570 (start/end) 2850 2855\n",
      "Current group 580 (start/end) 2900 2905\n",
      "Current group 590 (start/end) 2950 2955\n",
      "Current group 600 (start/end) 3000 3005\n",
      "Current group 610 (start/end) 3050 3055\n",
      "Current group 620 (start/end) 3100 3105\n",
      "Current group 630 (start/end) 3150 3155\n",
      "Current group 640 (start/end) 3200 3205\n",
      "Current group 650 (start/end) 3250 3255\n",
      "Current group 660 (start/end) 3300 3305\n",
      "Current group 670 (start/end) 3350 3355\n",
      "Current group 680 (start/end) 3400 3405\n",
      "Current group 690 (start/end) 3450 3455\n",
      "Current group 700 (start/end) 3500 3505\n",
      "Current group 710 (start/end) 3550 3555\n",
      "Current group 720 (start/end) 3600 3605\n",
      "Current group 730 (start/end) 3650 3655\n",
      "Current group 740 (start/end) 3700 3705\n",
      "Current group 750 (start/end) 3750 3755\n",
      "Current group 760 (start/end) 3800 3805\n",
      "Current group 770 (start/end) 3850 3855\n",
      "Current group 780 (start/end) 3900 3905\n",
      "Current group 790 (start/end) 3950 3955\n",
      "Current group 800 (start/end) 4000 4005\n",
      "Current group 810 (start/end) 4050 4055\n",
      "Current group 820 (start/end) 4100 4105\n",
      "Current group 830 (start/end) 4150 4155\n",
      "Current group 840 (start/end) 4200 4205\n",
      "Current group 850 (start/end) 4250 4255\n",
      "Current group 860 (start/end) 4300 4305\n",
      "Current group 870 (start/end) 4350 4355\n",
      "Current group 880 (start/end) 4400 4405\n",
      "Current group 890 (start/end) 4450 4455\n",
      "Current group 900 (start/end) 4500 4505\n",
      "Current group 910 (start/end) 4550 4555\n",
      "Current group 920 (start/end) 4600 4605\n",
      "Current group 930 (start/end) 4650 4655\n",
      "Current group 940 (start/end) 4700 4705\n",
      "Current group 950 (start/end) 4750 4755\n",
      "Current group 960 (start/end) 4800 4805\n",
      "Current group 970 (start/end) 4850 4855\n",
      "Current group 980 (start/end) 4900 4905\n",
      "Current group 990 (start/end) 4950 4955\n",
      "Current group 1000 (start/end) 5000 5005\n",
      "Current group 1010 (start/end) 5050 5055\n",
      "Current group 1020 (start/end) 5100 5105\n",
      "Current group 1030 (start/end) 5150 5155\n",
      "Current group 1040 (start/end) 5200 5205\n",
      "Current group 1050 (start/end) 5250 5255\n",
      "Current group 1060 (start/end) 5300 5305\n",
      "Current group 1070 (start/end) 5350 5355\n",
      "Current group 1080 (start/end) 5400 5405\n",
      "Current group 1090 (start/end) 5450 5455\n",
      "Current group 1100 (start/end) 5500 5505\n",
      "Current group 1110 (start/end) 5550 5555\n",
      "Current group 1120 (start/end) 5600 5605\n",
      "Current group 1130 (start/end) 5650 5655\n",
      "Current group 1140 (start/end) 5700 5705\n",
      "Current group 1150 (start/end) 5750 5755\n",
      "Current group 1160 (start/end) 5800 5805\n",
      "Current group 1170 (start/end) 5850 5855\n",
      "Current group 1180 (start/end) 5900 5905\n",
      "Current group 1190 (start/end) 5950 5955\n",
      "Current group 1200 (start/end) 6000 6005\n",
      "Current group 1210 (start/end) 6050 6055\n",
      "Current group 1220 (start/end) 6100 6105\n",
      "Current group 1230 (start/end) 6150 6155\n",
      "Current group 1240 (start/end) 6200 6205\n",
      "Current group 1250 (start/end) 6250 6255\n",
      "Current group 1260 (start/end) 6300 6305\n",
      "Current group 1270 (start/end) 6350 6355\n",
      "Current group 1280 (start/end) 6400 6405\n",
      "Current group 1290 (start/end) 6450 6455\n",
      "Current group 1300 (start/end) 6500 6505\n",
      "Current group 1310 (start/end) 6550 6555\n",
      "Current group 1320 (start/end) 6600 6605\n",
      "Current group 1330 (start/end) 6650 6655\n",
      "Current group 1340 (start/end) 6700 6705\n",
      "Current group 1350 (start/end) 6750 6755\n",
      "Current group 1360 (start/end) 6800 6805\n",
      "Current group 1370 (start/end) 6850 6855\n",
      "Current group 1380 (start/end) 6900 6905\n",
      "Current group 1390 (start/end) 6950 6955\n",
      "Current group 1400 (start/end) 7000 7005\n",
      "Current group 1410 (start/end) 7050 7055\n",
      "Current group 1420 (start/end) 7100 7105\n",
      "Current group 1430 (start/end) 7150 7155\n",
      "Current group 1440 (start/end) 7200 7205\n",
      "Current group 1450 (start/end) 7250 7255\n",
      "Current group 1460 (start/end) 7300 7305\n",
      "Current group 1470 (start/end) 7350 7355\n",
      "Current group 1480 (start/end) 7400 7405\n",
      "Current group 1490 (start/end) 7450 7455\n",
      "Current group 1500 (start/end) 7500 7505\n",
      "Current group 1510 (start/end) 7550 7555\n",
      "Current group 1520 (start/end) 7600 7605\n",
      "Current group 1530 (start/end) 7650 7655\n",
      "Current group 1540 (start/end) 7700 7705\n",
      "Current group 1550 (start/end) 7750 7755\n",
      "Current group 1560 (start/end) 7800 7805\n",
      "Current group 1570 (start/end) 7850 7855\n",
      "Current group 1580 (start/end) 7900 7905\n",
      "Current group 1590 (start/end) 7950 7955\n",
      "Current group 1600 (start/end) 8000 8005\n",
      "Current group 1610 (start/end) 8050 8055\n",
      "Current group 1620 (start/end) 8100 8105\n",
      "Current group 1630 (start/end) 8150 8155\n",
      "Current group 1640 (start/end) 8200 8205\n",
      "Current group 1650 (start/end) 8250 8255\n",
      "Current group 1660 (start/end) 8300 8305\n",
      "Current group 1670 (start/end) 8350 8355\n",
      "Current group 1680 (start/end) 8400 8405\n",
      "Current group 1690 (start/end) 8450 8455\n",
      "Current group 1700 (start/end) 8500 8505\n",
      "Current group 1710 (start/end) 8550 8555\n",
      "Current group 1720 (start/end) 8600 8605\n",
      "Current group 1730 (start/end) 8650 8655\n",
      "Current group 1740 (start/end) 8700 8705\n",
      "Current group 1750 (start/end) 8750 8755\n",
      "Current group 1760 (start/end) 8800 8805\n",
      "Current group 1770 (start/end) 8850 8855\n",
      "Current group 1780 (start/end) 8900 8905\n",
      "Current group 1790 (start/end) 8950 8955\n",
      "Current group 1800 (start/end) 9000 9005\n",
      "done...\n"
     ]
    }
   ],
   "source": [
    "manager = multiprocessing.Manager()\n",
    "return_dict = manager.dict()\n",
    "wordle.ThreadingUtils.run(run_query, next_args, n_cores=n_cores, input_list_kwargs=[{} for args in next_args])"
   ]
  },
  {
   "cell_type": "markdown",
   "metadata": {},
   "source": [
    "### Visualize results"
   ]
  },
  {
   "cell_type": "code",
   "execution_count": 102,
   "metadata": {},
   "outputs": [
    {
     "data": {
      "text/html": [
       "<div>\n",
       "<style scoped>\n",
       "    .dataframe tbody tr th:only-of-type {\n",
       "        vertical-align: middle;\n",
       "    }\n",
       "\n",
       "    .dataframe tbody tr th {\n",
       "        vertical-align: top;\n",
       "    }\n",
       "\n",
       "    .dataframe thead th {\n",
       "        text-align: right;\n",
       "    }\n",
       "</style>\n",
       "<table border=\"1\" class=\"dataframe\">\n",
       "  <thead>\n",
       "    <tr style=\"text-align: right;\">\n",
       "      <th></th>\n",
       "      <th>day.i</th>\n",
       "      <th>strategy</th>\n",
       "      <th>sort.ascending</th>\n",
       "      <th>dictionary.name</th>\n",
       "      <th>word</th>\n",
       "      <th>n.guesses</th>\n",
       "      <th>k</th>\n",
       "    </tr>\n",
       "  </thead>\n",
       "  <tbody>\n",
       "    <tr>\n",
       "      <th>2632</th>\n",
       "      <td>877</td>\n",
       "      <td>posfreqcovar</td>\n",
       "      <td>False</td>\n",
       "      <td>american_3</td>\n",
       "      <td>OLO</td>\n",
       "      <td>8</td>\n",
       "      <td>american_3:OLO</td>\n",
       "    </tr>\n",
       "    <tr>\n",
       "      <th>2095</th>\n",
       "      <td>699</td>\n",
       "      <td>wordfreq</td>\n",
       "      <td>False</td>\n",
       "      <td>american_3</td>\n",
       "      <td>ASE</td>\n",
       "      <td>8</td>\n",
       "      <td>american_3:ASE</td>\n",
       "    </tr>\n",
       "    <tr>\n",
       "      <th>2898</th>\n",
       "      <td>966</td>\n",
       "      <td>posfreq</td>\n",
       "      <td>False</td>\n",
       "      <td>american_3</td>\n",
       "      <td>OOK</td>\n",
       "      <td>8</td>\n",
       "      <td>american_3:OOK</td>\n",
       "    </tr>\n",
       "    <tr>\n",
       "      <th>2899</th>\n",
       "      <td>965</td>\n",
       "      <td>posfreqcovar</td>\n",
       "      <td>False</td>\n",
       "      <td>american_3</td>\n",
       "      <td>UIP</td>\n",
       "      <td>8</td>\n",
       "      <td>american_3:UIP</td>\n",
       "    </tr>\n",
       "    <tr>\n",
       "      <th>5768</th>\n",
       "      <td>1922</td>\n",
       "      <td>posfreqcovar</td>\n",
       "      <td>False</td>\n",
       "      <td>american_4</td>\n",
       "      <td>ALOR</td>\n",
       "      <td>8</td>\n",
       "      <td>american_4:ALOR</td>\n",
       "    </tr>\n",
       "  </tbody>\n",
       "</table>\n",
       "</div>"
      ],
      "text/plain": [
       "      day.i      strategy  sort.ascending dictionary.name  word  n.guesses                k\n",
       "2632    877  posfreqcovar           False      american_3   OLO          8   american_3:OLO\n",
       "2095    699      wordfreq           False      american_3   ASE          8   american_3:ASE\n",
       "2898    966       posfreq           False      american_3   OOK          8   american_3:OOK\n",
       "2899    965  posfreqcovar           False      american_3   UIP          8   american_3:UIP\n",
       "5768   1922  posfreqcovar           False      american_4  ALOR          8  american_4:ALOR"
      ]
     },
     "execution_count": 102,
     "metadata": {},
     "output_type": "execute_result"
    }
   ],
   "source": [
    "final_scores = []\n",
    "for k in return_dict.keys():\n",
    "    # print(k)\n",
    "    # print(k, return_dict[k])\n",
    "    next_scores = return_dict[k]\n",
    "    \n",
    "    final_scores.append(next_scores)\n",
    "    if len(final_scores) == len(next_args):\n",
    "        break\n",
    "\n",
    "res = pd.DataFrame(final_scores, columns=['day.i', 'strategy', 'sort.ascending', 'dictionary.name', 'word', 'n.guesses'])\n",
    "res['k'] = res['dictionary.name'] + ':' + res['word']\n",
    "# matrix format\n",
    "m = res.pivot('k', 'strategy', 'n.guesses')\n",
    "res.sort_values('n.guesses', ascending=False).head()\n"
   ]
  },
  {
   "cell_type": "markdown",
   "metadata": {},
   "source": [
    "#### Visualizing number of guesses by strategy"
   ]
  },
  {
   "cell_type": "code",
   "execution_count": 103,
   "metadata": {},
   "outputs": [
    {
     "data": {
      "text/html": [
       "<div>\n",
       "<style scoped>\n",
       "    .dataframe tbody tr th:only-of-type {\n",
       "        vertical-align: middle;\n",
       "    }\n",
       "\n",
       "    .dataframe tbody tr th {\n",
       "        vertical-align: top;\n",
       "    }\n",
       "\n",
       "    .dataframe thead th {\n",
       "        text-align: right;\n",
       "    }\n",
       "</style>\n",
       "<table border=\"1\" class=\"dataframe\">\n",
       "  <thead>\n",
       "    <tr style=\"text-align: right;\">\n",
       "      <th>strategy</th>\n",
       "      <th>posfreq</th>\n",
       "      <th>posfreqcovar</th>\n",
       "      <th>wordfreq</th>\n",
       "      <th>diff</th>\n",
       "    </tr>\n",
       "    <tr>\n",
       "      <th>k</th>\n",
       "      <th></th>\n",
       "      <th></th>\n",
       "      <th></th>\n",
       "      <th></th>\n",
       "    </tr>\n",
       "  </thead>\n",
       "  <tbody>\n",
       "    <tr>\n",
       "      <th>american_3:EIR</th>\n",
       "      <td>2</td>\n",
       "      <td>8</td>\n",
       "      <td>7</td>\n",
       "      <td>6</td>\n",
       "    </tr>\n",
       "    <tr>\n",
       "      <th>wordle_3:EIR</th>\n",
       "      <td>2</td>\n",
       "      <td>8</td>\n",
       "      <td>7</td>\n",
       "      <td>6</td>\n",
       "    </tr>\n",
       "    <tr>\n",
       "      <th>wordle_4:ALOR</th>\n",
       "      <td>3</td>\n",
       "      <td>8</td>\n",
       "      <td>3</td>\n",
       "      <td>5</td>\n",
       "    </tr>\n",
       "    <tr>\n",
       "      <th>american_3:AOR</th>\n",
       "      <td>3</td>\n",
       "      <td>8</td>\n",
       "      <td>6</td>\n",
       "      <td>5</td>\n",
       "    </tr>\n",
       "    <tr>\n",
       "      <th>american_4:ALOR</th>\n",
       "      <td>3</td>\n",
       "      <td>8</td>\n",
       "      <td>3</td>\n",
       "      <td>5</td>\n",
       "    </tr>\n",
       "  </tbody>\n",
       "</table>\n",
       "</div>"
      ],
      "text/plain": [
       "strategy         posfreq  posfreqcovar  wordfreq  diff\n",
       "k                                                     \n",
       "american_3:EIR         2             8         7     6\n",
       "wordle_3:EIR           2             8         7     6\n",
       "wordle_4:ALOR          3             8         3     5\n",
       "american_3:AOR         3             8         6     5\n",
       "american_4:ALOR        3             8         3     5"
      ]
     },
     "execution_count": 103,
     "metadata": {},
     "output_type": "execute_result"
    }
   ],
   "source": [
    "# best covariation\n",
    "m['diff'] = m['posfreqcovar'] - m['posfreq']\n",
    "m.sort_values('diff', ascending=False).head()"
   ]
  },
  {
   "cell_type": "code",
   "execution_count": 104,
   "metadata": {},
   "outputs": [
    {
     "data": {
      "text/html": [
       "<div>\n",
       "<style scoped>\n",
       "    .dataframe tbody tr th:only-of-type {\n",
       "        vertical-align: middle;\n",
       "    }\n",
       "\n",
       "    .dataframe tbody tr th {\n",
       "        vertical-align: top;\n",
       "    }\n",
       "\n",
       "    .dataframe thead th {\n",
       "        text-align: right;\n",
       "    }\n",
       "</style>\n",
       "<table border=\"1\" class=\"dataframe\">\n",
       "  <thead>\n",
       "    <tr style=\"text-align: right;\">\n",
       "      <th>strategy</th>\n",
       "      <th>posfreq</th>\n",
       "      <th>posfreqcovar</th>\n",
       "      <th>wordfreq</th>\n",
       "      <th>diff</th>\n",
       "    </tr>\n",
       "    <tr>\n",
       "      <th>k</th>\n",
       "      <th></th>\n",
       "      <th></th>\n",
       "      <th></th>\n",
       "      <th></th>\n",
       "    </tr>\n",
       "  </thead>\n",
       "  <tbody>\n",
       "    <tr>\n",
       "      <th>wordle_4:YLAW</th>\n",
       "      <td>8</td>\n",
       "      <td>4</td>\n",
       "      <td>8</td>\n",
       "      <td>-4</td>\n",
       "    </tr>\n",
       "    <tr>\n",
       "      <th>wordle_4:ENET</th>\n",
       "      <td>7</td>\n",
       "      <td>3</td>\n",
       "      <td>3</td>\n",
       "      <td>-4</td>\n",
       "    </tr>\n",
       "    <tr>\n",
       "      <th>american_4:YLAW</th>\n",
       "      <td>8</td>\n",
       "      <td>4</td>\n",
       "      <td>8</td>\n",
       "      <td>-4</td>\n",
       "    </tr>\n",
       "    <tr>\n",
       "      <th>american_3:EGY</th>\n",
       "      <td>8</td>\n",
       "      <td>3</td>\n",
       "      <td>7</td>\n",
       "      <td>-5</td>\n",
       "    </tr>\n",
       "    <tr>\n",
       "      <th>american_3:TIA</th>\n",
       "      <td>8</td>\n",
       "      <td>3</td>\n",
       "      <td>7</td>\n",
       "      <td>-5</td>\n",
       "    </tr>\n",
       "  </tbody>\n",
       "</table>\n",
       "</div>"
      ],
      "text/plain": [
       "strategy         posfreq  posfreqcovar  wordfreq  diff\n",
       "k                                                     \n",
       "wordle_4:YLAW          8             4         8    -4\n",
       "wordle_4:ENET          7             3         3    -4\n",
       "american_4:YLAW        8             4         8    -4\n",
       "american_3:EGY         8             3         7    -5\n",
       "american_3:TIA         8             3         7    -5"
      ]
     },
     "execution_count": 104,
     "metadata": {},
     "output_type": "execute_result"
    }
   ],
   "source": [
    "# worst covariation\n",
    "m.sort_values('diff', ascending=False).tail()"
   ]
  },
  {
   "cell_type": "code",
   "execution_count": 105,
   "metadata": {},
   "outputs": [
    {
     "data": {
      "text/html": [
       "<div>\n",
       "<style scoped>\n",
       "    .dataframe tbody tr th:only-of-type {\n",
       "        vertical-align: middle;\n",
       "    }\n",
       "\n",
       "    .dataframe tbody tr th {\n",
       "        vertical-align: top;\n",
       "    }\n",
       "\n",
       "    .dataframe thead th {\n",
       "        text-align: right;\n",
       "    }\n",
       "</style>\n",
       "<table border=\"1\" class=\"dataframe\">\n",
       "  <thead>\n",
       "    <tr style=\"text-align: right;\">\n",
       "      <th></th>\n",
       "      <th></th>\n",
       "      <th>n.guesses</th>\n",
       "    </tr>\n",
       "    <tr>\n",
       "      <th>dictionary.name</th>\n",
       "      <th>strategy</th>\n",
       "      <th></th>\n",
       "    </tr>\n",
       "  </thead>\n",
       "  <tbody>\n",
       "    <tr>\n",
       "      <th rowspan=\"3\" valign=\"top\">american_3</th>\n",
       "      <th>posfreq</th>\n",
       "      <td>6.562</td>\n",
       "    </tr>\n",
       "    <tr>\n",
       "      <th>posfreqcovar</th>\n",
       "      <td>6.646</td>\n",
       "    </tr>\n",
       "    <tr>\n",
       "      <th>wordfreq</th>\n",
       "      <td>6.582</td>\n",
       "    </tr>\n",
       "    <tr>\n",
       "      <th rowspan=\"3\" valign=\"top\">american_4</th>\n",
       "      <th>posfreq</th>\n",
       "      <td>5.276</td>\n",
       "    </tr>\n",
       "    <tr>\n",
       "      <th>posfreqcovar</th>\n",
       "      <td>5.458</td>\n",
       "    </tr>\n",
       "    <tr>\n",
       "      <th>wordfreq</th>\n",
       "      <td>5.262</td>\n",
       "    </tr>\n",
       "    <tr>\n",
       "      <th rowspan=\"3\" valign=\"top\">american_5</th>\n",
       "      <th>posfreq</th>\n",
       "      <td>4.050</td>\n",
       "    </tr>\n",
       "    <tr>\n",
       "      <th>posfreqcovar</th>\n",
       "      <td>4.182</td>\n",
       "    </tr>\n",
       "    <tr>\n",
       "      <th>wordfreq</th>\n",
       "      <td>4.042</td>\n",
       "    </tr>\n",
       "    <tr>\n",
       "      <th rowspan=\"3\" valign=\"top\">wordle_3</th>\n",
       "      <th>posfreq</th>\n",
       "      <td>6.530</td>\n",
       "    </tr>\n",
       "    <tr>\n",
       "      <th>posfreqcovar</th>\n",
       "      <td>6.628</td>\n",
       "    </tr>\n",
       "    <tr>\n",
       "      <th>wordfreq</th>\n",
       "      <td>6.544</td>\n",
       "    </tr>\n",
       "    <tr>\n",
       "      <th rowspan=\"3\" valign=\"top\">wordle_4</th>\n",
       "      <th>posfreq</th>\n",
       "      <td>5.268</td>\n",
       "    </tr>\n",
       "    <tr>\n",
       "      <th>posfreqcovar</th>\n",
       "      <td>5.490</td>\n",
       "    </tr>\n",
       "    <tr>\n",
       "      <th>wordfreq</th>\n",
       "      <td>5.334</td>\n",
       "    </tr>\n",
       "    <tr>\n",
       "      <th rowspan=\"3\" valign=\"top\">wordle_5</th>\n",
       "      <th>posfreq</th>\n",
       "      <td>4.070</td>\n",
       "    </tr>\n",
       "    <tr>\n",
       "      <th>posfreqcovar</th>\n",
       "      <td>4.214</td>\n",
       "    </tr>\n",
       "    <tr>\n",
       "      <th>wordfreq</th>\n",
       "      <td>4.036</td>\n",
       "    </tr>\n",
       "  </tbody>\n",
       "</table>\n",
       "</div>"
      ],
      "text/plain": [
       "                              n.guesses\n",
       "dictionary.name strategy               \n",
       "american_3      posfreq           6.562\n",
       "                posfreqcovar      6.646\n",
       "                wordfreq          6.582\n",
       "american_4      posfreq           5.276\n",
       "                posfreqcovar      5.458\n",
       "                wordfreq          5.262\n",
       "american_5      posfreq           4.050\n",
       "                posfreqcovar      4.182\n",
       "                wordfreq          4.042\n",
       "wordle_3        posfreq           6.530\n",
       "                posfreqcovar      6.628\n",
       "                wordfreq          6.544\n",
       "wordle_4        posfreq           5.268\n",
       "                posfreqcovar      5.490\n",
       "                wordfreq          5.334\n",
       "wordle_5        posfreq           4.070\n",
       "                posfreqcovar      4.214\n",
       "                wordfreq          4.036"
      ]
     },
     "execution_count": 105,
     "metadata": {},
     "output_type": "execute_result"
    }
   ],
   "source": [
    "res.groupby(['dictionary.name', 'strategy']).mean()[['n.guesses']] # .sort_values('n.guesses')"
   ]
  },
  {
   "cell_type": "code",
   "execution_count": 106,
   "metadata": {},
   "outputs": [],
   "source": [
    "import matplotlib as mpl\n",
    "mpl.rcParams.update(mpl.rcParamsDefault)\n"
   ]
  },
  {
   "cell_type": "code",
   "execution_count": 107,
   "metadata": {},
   "outputs": [
    {
     "data": {
      "text/plain": [
       "Text(0, 0.5, '# guesses')"
      ]
     },
     "execution_count": 107,
     "metadata": {},
     "output_type": "execute_result"
    },
    {
     "data": {
      "image/png": "[encoded data removed]",
      "text/plain": [
       "<Figure size 640x480 with 1 Axes>"
      ]
     },
     "metadata": {},
     "output_type": "display_data"
    }
   ],
   "source": [
    "sns.boxplot(data=res, hue='strategy', y='n.guesses', x='dictionary.name', order=['american_3', 'american_4', 'american_5', 'wordle_3', 'wordle_4', 'wordle_5'],\n",
    "            hue_order=['wordfreq', 'posfreq', 'posfreqcovar'], fliersize=0)\n",
    "plt.legend(bbox_to_anchor=(1.05, 1), loc=2, borderaxespad=0.)\n",
    "\n",
    "plt.xticks(rotation=45, ha='right')\n",
    "plt.xlabel('dictionary')\n",
    "plt.ylabel('# guesses')\n"
   ]
  },
  {
   "cell_type": "code",
   "execution_count": 126,
   "metadata": {},
   "outputs": [
    {
     "name": "stderr",
     "output_type": "stream",
     "text": [
      "No handles with labels found to put in legend.\n",
      "No handles with labels found to put in legend.\n",
      "No handles with labels found to put in legend.\n"
     ]
    },
    {
     "name": "stdout",
     "output_type": "stream",
     "text": [
      "posfreq 5.292666666666666\n",
      "posfreqcovar 5.436333333333334\n",
      "wordfreq 5.3\n"
     ]
    },
    {
     "data": {
      "image/png": "[encoded data removed]",
      "text/plain": [
       "<Figure size 640x480 with 3 Axes>"
      ]
     },
     "metadata": {},
     "output_type": "display_data"
    }
   ],
   "source": [
    "i = 1\n",
    "for st, grp in res.groupby('strategy'):\n",
    "    ax = plt.subplot(3, 1, i)\n",
    "    sns.histplot(grp, x='n.guesses', hue='strategy', ax=ax, bins=np.arange(0,5)+0.5) #  multiple='stack') # bins=4)\n",
    "    i += 1\n",
    "    plt.title(st)\n",
    "    ax.legend().set_visible(False)\n",
    "    \n",
    "    mean = np.mean(grp['n.guesses'])\n",
    "    print(st, mean)\n",
    "    plt.axvline(mean, c='red')\n",
    "    ax.locator_params(axis='y', integer=True)\n",
    "\n",
    "    \n",
    "plt.tight_layout()\n",
    "plt.show()\n"
   ]
  },
  {
   "cell_type": "code",
   "execution_count": 109,
   "metadata": {},
   "outputs": [
    {
     "data": {
      "text/plain": [
       "[<matplotlib.lines.Line2D at 0x7f9cdb28ec50>]"
      ]
     },
     "execution_count": 109,
     "metadata": {},
     "output_type": "execute_result"
    },
    {
     "data": {
      "image/png": "[encoded data removed]",
      "text/plain": [
       "<Figure size 640x480 with 1 Axes>"
      ]
     },
     "metadata": {},
     "output_type": "display_data"
    }
   ],
   "source": [
    "plt.scatter(m['posfreq'], m['posfreqcovar'])\n",
    "plt.xlabel('letter.frequency.position')\n",
    "plt.ylabel('letter.frequency.position.with.covariation')\n",
    "plt.plot([0, 5], [0, 5])"
   ]
  }
 ],
 "metadata": {
  "kernelspec": {
   "display_name": "Python [conda env:mypython3] *",
   "language": "python",
   "name": "conda-env-mypython3-py"
  },
  "language_info": {
   "codemirror_mode": {
    "name": "ipython",
    "version": 3
   },
   "file_extension": ".py",
   "mimetype": "text/x-python",
   "name": "python",
   "nbconvert_exporter": "python",
   "pygments_lexer": "ipython3",
   "version": "3.7.8"
  }
 },
 "nbformat": 4,
 "nbformat_minor": 4
}
